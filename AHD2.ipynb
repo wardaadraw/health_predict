{
  "cells": [
    {
      "cell_type": "code",
      "execution_count": null,
      "metadata": {
        "id": "2O8qFU_sc6Vd"
      },
      "outputs": [],
      "source": [
        "import pandas as pd\n",
        "df = pd.read_csv('/content/DATASET .csv')"
      ]
    },
    {
      "cell_type": "code",
      "execution_count": null,
      "metadata": {
        "id": "D6TyXhcPkA4y"
      },
      "outputs": [],
      "source": [
        "df['Gender'].replace({'Male': 1, 'Female': 0}, inplace=True)\n",
        "df['Class'] = df['Class'].astype(int)"
      ]
    },
    {
      "cell_type": "code",
      "execution_count": null,
      "metadata": {
        "colab": {
          "base_uri": "https://localhost:8080/",
          "height": 206
        },
        "id": "U3n5XBomc7Ky",
        "outputId": "efbe8e47-0fab-44e0-acad-b9b00e79511b"
      },
      "outputs": [
        {
          "output_type": "execute_result",
          "data": {
            "text/plain": [
              "   No  Gender  Age  Height  Weight  Temperature  Systole  Diastole  HeartRate  \\\n",
              "0   1       0   17     158      48         37.0    116.0      84.0       78.0   \n",
              "1   2       0   17     158      59         36.0    111.0      81.0       85.0   \n",
              "2   3       0   17     158      51         37.0    118.0      83.0       82.0   \n",
              "3   4       0   17     177      65         37.0    118.0      85.0       73.0   \n",
              "4   5       1   17     177      61         37.0    117.0      90.0       60.0   \n",
              "\n",
              "    Spo2  BloodSugar  Class  CLASSTEMP  CLASSSYS  CLASSDIAS  CLASSHR  \\\n",
              "0   97.0       128.0      1       True      True       True     True   \n",
              "1  100.0       100.0      1       True      True       True     True   \n",
              "2   95.0        99.0      1       True      True       True     True   \n",
              "3   97.0       123.0      1       True      True       True     True   \n",
              "4   98.0        96.0      1       True      True       True     True   \n",
              "\n",
              "   CLASSSPO2  CLASSBS  \n",
              "0       True     True  \n",
              "1       True     True  \n",
              "2       True     True  \n",
              "3       True     True  \n",
              "4       True     True  "
            ],
            "text/html": [
              "\n",
              "\n",
              "  <div id=\"df-1c585dea-e124-46f5-a8fe-ef4bd1f056a0\">\n",
              "    <div class=\"colab-df-container\">\n",
              "      <div>\n",
              "<style scoped>\n",
              "    .dataframe tbody tr th:only-of-type {\n",
              "        vertical-align: middle;\n",
              "    }\n",
              "\n",
              "    .dataframe tbody tr th {\n",
              "        vertical-align: top;\n",
              "    }\n",
              "\n",
              "    .dataframe thead th {\n",
              "        text-align: right;\n",
              "    }\n",
              "</style>\n",
              "<table border=\"1\" class=\"dataframe\">\n",
              "  <thead>\n",
              "    <tr style=\"text-align: right;\">\n",
              "      <th></th>\n",
              "      <th>No</th>\n",
              "      <th>Gender</th>\n",
              "      <th>Age</th>\n",
              "      <th>Height</th>\n",
              "      <th>Weight</th>\n",
              "      <th>Temperature</th>\n",
              "      <th>Systole</th>\n",
              "      <th>Diastole</th>\n",
              "      <th>HeartRate</th>\n",
              "      <th>Spo2</th>\n",
              "      <th>BloodSugar</th>\n",
              "      <th>Class</th>\n",
              "      <th>CLASSTEMP</th>\n",
              "      <th>CLASSSYS</th>\n",
              "      <th>CLASSDIAS</th>\n",
              "      <th>CLASSHR</th>\n",
              "      <th>CLASSSPO2</th>\n",
              "      <th>CLASSBS</th>\n",
              "    </tr>\n",
              "  </thead>\n",
              "  <tbody>\n",
              "    <tr>\n",
              "      <th>0</th>\n",
              "      <td>1</td>\n",
              "      <td>0</td>\n",
              "      <td>17</td>\n",
              "      <td>158</td>\n",
              "      <td>48</td>\n",
              "      <td>37.0</td>\n",
              "      <td>116.0</td>\n",
              "      <td>84.0</td>\n",
              "      <td>78.0</td>\n",
              "      <td>97.0</td>\n",
              "      <td>128.0</td>\n",
              "      <td>1</td>\n",
              "      <td>True</td>\n",
              "      <td>True</td>\n",
              "      <td>True</td>\n",
              "      <td>True</td>\n",
              "      <td>True</td>\n",
              "      <td>True</td>\n",
              "    </tr>\n",
              "    <tr>\n",
              "      <th>1</th>\n",
              "      <td>2</td>\n",
              "      <td>0</td>\n",
              "      <td>17</td>\n",
              "      <td>158</td>\n",
              "      <td>59</td>\n",
              "      <td>36.0</td>\n",
              "      <td>111.0</td>\n",
              "      <td>81.0</td>\n",
              "      <td>85.0</td>\n",
              "      <td>100.0</td>\n",
              "      <td>100.0</td>\n",
              "      <td>1</td>\n",
              "      <td>True</td>\n",
              "      <td>True</td>\n",
              "      <td>True</td>\n",
              "      <td>True</td>\n",
              "      <td>True</td>\n",
              "      <td>True</td>\n",
              "    </tr>\n",
              "    <tr>\n",
              "      <th>2</th>\n",
              "      <td>3</td>\n",
              "      <td>0</td>\n",
              "      <td>17</td>\n",
              "      <td>158</td>\n",
              "      <td>51</td>\n",
              "      <td>37.0</td>\n",
              "      <td>118.0</td>\n",
              "      <td>83.0</td>\n",
              "      <td>82.0</td>\n",
              "      <td>95.0</td>\n",
              "      <td>99.0</td>\n",
              "      <td>1</td>\n",
              "      <td>True</td>\n",
              "      <td>True</td>\n",
              "      <td>True</td>\n",
              "      <td>True</td>\n",
              "      <td>True</td>\n",
              "      <td>True</td>\n",
              "    </tr>\n",
              "    <tr>\n",
              "      <th>3</th>\n",
              "      <td>4</td>\n",
              "      <td>0</td>\n",
              "      <td>17</td>\n",
              "      <td>177</td>\n",
              "      <td>65</td>\n",
              "      <td>37.0</td>\n",
              "      <td>118.0</td>\n",
              "      <td>85.0</td>\n",
              "      <td>73.0</td>\n",
              "      <td>97.0</td>\n",
              "      <td>123.0</td>\n",
              "      <td>1</td>\n",
              "      <td>True</td>\n",
              "      <td>True</td>\n",
              "      <td>True</td>\n",
              "      <td>True</td>\n",
              "      <td>True</td>\n",
              "      <td>True</td>\n",
              "    </tr>\n",
              "    <tr>\n",
              "      <th>4</th>\n",
              "      <td>5</td>\n",
              "      <td>1</td>\n",
              "      <td>17</td>\n",
              "      <td>177</td>\n",
              "      <td>61</td>\n",
              "      <td>37.0</td>\n",
              "      <td>117.0</td>\n",
              "      <td>90.0</td>\n",
              "      <td>60.0</td>\n",
              "      <td>98.0</td>\n",
              "      <td>96.0</td>\n",
              "      <td>1</td>\n",
              "      <td>True</td>\n",
              "      <td>True</td>\n",
              "      <td>True</td>\n",
              "      <td>True</td>\n",
              "      <td>True</td>\n",
              "      <td>True</td>\n",
              "    </tr>\n",
              "  </tbody>\n",
              "</table>\n",
              "</div>\n",
              "      <button class=\"colab-df-convert\" onclick=\"convertToInteractive('df-1c585dea-e124-46f5-a8fe-ef4bd1f056a0')\"\n",
              "              title=\"Convert this dataframe to an interactive table.\"\n",
              "              style=\"display:none;\">\n",
              "\n",
              "  <svg xmlns=\"http://www.w3.org/2000/svg\" height=\"24px\"viewBox=\"0 0 24 24\"\n",
              "       width=\"24px\">\n",
              "    <path d=\"M0 0h24v24H0V0z\" fill=\"none\"/>\n",
              "    <path d=\"M18.56 5.44l.94 2.06.94-2.06 2.06-.94-2.06-.94-.94-2.06-.94 2.06-2.06.94zm-11 1L8.5 8.5l.94-2.06 2.06-.94-2.06-.94L8.5 2.5l-.94 2.06-2.06.94zm10 10l.94 2.06.94-2.06 2.06-.94-2.06-.94-.94-2.06-.94 2.06-2.06.94z\"/><path d=\"M17.41 7.96l-1.37-1.37c-.4-.4-.92-.59-1.43-.59-.52 0-1.04.2-1.43.59L10.3 9.45l-7.72 7.72c-.78.78-.78 2.05 0 2.83L4 21.41c.39.39.9.59 1.41.59.51 0 1.02-.2 1.41-.59l7.78-7.78 2.81-2.81c.8-.78.8-2.07 0-2.86zM5.41 20L4 18.59l7.72-7.72 1.47 1.35L5.41 20z\"/>\n",
              "  </svg>\n",
              "      </button>\n",
              "\n",
              "\n",
              "\n",
              "    <div id=\"df-0ad334da-0d1f-455c-ae60-c8cca7d5916d\">\n",
              "      <button class=\"colab-df-quickchart\" onclick=\"quickchart('df-0ad334da-0d1f-455c-ae60-c8cca7d5916d')\"\n",
              "              title=\"Suggest charts.\"\n",
              "              style=\"display:none;\">\n",
              "\n",
              "<svg xmlns=\"http://www.w3.org/2000/svg\" height=\"24px\"viewBox=\"0 0 24 24\"\n",
              "     width=\"24px\">\n",
              "    <g>\n",
              "        <path d=\"M19 3H5c-1.1 0-2 .9-2 2v14c0 1.1.9 2 2 2h14c1.1 0 2-.9 2-2V5c0-1.1-.9-2-2-2zM9 17H7v-7h2v7zm4 0h-2V7h2v10zm4 0h-2v-4h2v4z\"/>\n",
              "    </g>\n",
              "</svg>\n",
              "      </button>\n",
              "    </div>\n",
              "\n",
              "<style>\n",
              "  .colab-df-quickchart {\n",
              "    background-color: #E8F0FE;\n",
              "    border: none;\n",
              "    border-radius: 50%;\n",
              "    cursor: pointer;\n",
              "    display: none;\n",
              "    fill: #1967D2;\n",
              "    height: 32px;\n",
              "    padding: 0 0 0 0;\n",
              "    width: 32px;\n",
              "  }\n",
              "\n",
              "  .colab-df-quickchart:hover {\n",
              "    background-color: #E2EBFA;\n",
              "    box-shadow: 0px 1px 2px rgba(60, 64, 67, 0.3), 0px 1px 3px 1px rgba(60, 64, 67, 0.15);\n",
              "    fill: #174EA6;\n",
              "  }\n",
              "\n",
              "  [theme=dark] .colab-df-quickchart {\n",
              "    background-color: #3B4455;\n",
              "    fill: #D2E3FC;\n",
              "  }\n",
              "\n",
              "  [theme=dark] .colab-df-quickchart:hover {\n",
              "    background-color: #434B5C;\n",
              "    box-shadow: 0px 1px 3px 1px rgba(0, 0, 0, 0.15);\n",
              "    filter: drop-shadow(0px 1px 2px rgba(0, 0, 0, 0.3));\n",
              "    fill: #FFFFFF;\n",
              "  }\n",
              "</style>\n",
              "\n",
              "    <script>\n",
              "      async function quickchart(key) {\n",
              "        const containerElement = document.querySelector('#' + key);\n",
              "        const charts = await google.colab.kernel.invokeFunction(\n",
              "            'suggestCharts', [key], {});\n",
              "      }\n",
              "    </script>\n",
              "\n",
              "      <script>\n",
              "\n",
              "function displayQuickchartButton(domScope) {\n",
              "  let quickchartButtonEl =\n",
              "    domScope.querySelector('#df-0ad334da-0d1f-455c-ae60-c8cca7d5916d button.colab-df-quickchart');\n",
              "  quickchartButtonEl.style.display =\n",
              "    google.colab.kernel.accessAllowed ? 'block' : 'none';\n",
              "}\n",
              "\n",
              "        displayQuickchartButton(document);\n",
              "      </script>\n",
              "      <style>\n",
              "    .colab-df-container {\n",
              "      display:flex;\n",
              "      flex-wrap:wrap;\n",
              "      gap: 12px;\n",
              "    }\n",
              "\n",
              "    .colab-df-convert {\n",
              "      background-color: #E8F0FE;\n",
              "      border: none;\n",
              "      border-radius: 50%;\n",
              "      cursor: pointer;\n",
              "      display: none;\n",
              "      fill: #1967D2;\n",
              "      height: 32px;\n",
              "      padding: 0 0 0 0;\n",
              "      width: 32px;\n",
              "    }\n",
              "\n",
              "    .colab-df-convert:hover {\n",
              "      background-color: #E2EBFA;\n",
              "      box-shadow: 0px 1px 2px rgba(60, 64, 67, 0.3), 0px 1px 3px 1px rgba(60, 64, 67, 0.15);\n",
              "      fill: #174EA6;\n",
              "    }\n",
              "\n",
              "    [theme=dark] .colab-df-convert {\n",
              "      background-color: #3B4455;\n",
              "      fill: #D2E3FC;\n",
              "    }\n",
              "\n",
              "    [theme=dark] .colab-df-convert:hover {\n",
              "      background-color: #434B5C;\n",
              "      box-shadow: 0px 1px 3px 1px rgba(0, 0, 0, 0.15);\n",
              "      filter: drop-shadow(0px 1px 2px rgba(0, 0, 0, 0.3));\n",
              "      fill: #FFFFFF;\n",
              "    }\n",
              "  </style>\n",
              "\n",
              "      <script>\n",
              "        const buttonEl =\n",
              "          document.querySelector('#df-1c585dea-e124-46f5-a8fe-ef4bd1f056a0 button.colab-df-convert');\n",
              "        buttonEl.style.display =\n",
              "          google.colab.kernel.accessAllowed ? 'block' : 'none';\n",
              "\n",
              "        async function convertToInteractive(key) {\n",
              "          const element = document.querySelector('#df-1c585dea-e124-46f5-a8fe-ef4bd1f056a0');\n",
              "          const dataTable =\n",
              "            await google.colab.kernel.invokeFunction('convertToInteractive',\n",
              "                                                     [key], {});\n",
              "          if (!dataTable) return;\n",
              "\n",
              "          const docLinkHtml = 'Like what you see? Visit the ' +\n",
              "            '<a target=\"_blank\" href=https://colab.research.google.com/notebooks/data_table.ipynb>data table notebook</a>'\n",
              "            + ' to learn more about interactive tables.';\n",
              "          element.innerHTML = '';\n",
              "          dataTable['output_type'] = 'display_data';\n",
              "          await google.colab.output.renderOutput(dataTable, element);\n",
              "          const docLink = document.createElement('div');\n",
              "          docLink.innerHTML = docLinkHtml;\n",
              "          element.appendChild(docLink);\n",
              "        }\n",
              "      </script>\n",
              "    </div>\n",
              "  </div>\n"
            ]
          },
          "metadata": {},
          "execution_count": 17
        }
      ],
      "source": [
        "df.head()"
      ]
    },
    {
      "cell_type": "code",
      "execution_count": null,
      "metadata": {
        "colab": {
          "base_uri": "https://localhost:8080/",
          "height": 206
        },
        "id": "pl9nFOUQPtB0",
        "outputId": "11bfc74f-a0e1-4304-fd2e-abb6a9f84c6d"
      },
      "outputs": [
        {
          "output_type": "execute_result",
          "data": {
            "text/plain": [
              "          No  Gender  Age  Height  Weight  Temperature  Systole  Diastole  \\\n",
              "75007  75008       0   40     142      44         36.0     79.0      60.0   \n",
              "75008  75009       0   40     142      50         36.0     79.0      62.0   \n",
              "75009  75010       0   40     142      44         37.0     79.0      65.0   \n",
              "75010  75011       0   40     142      45         36.0     76.0      64.0   \n",
              "75011  75012       0   40     142      45         36.0     76.0      64.0   \n",
              "\n",
              "       HeartRate  Spo2  BloodSugar  Class  CLASSTEMP  CLASSSYS  CLASSDIAS  \\\n",
              "75007       84.0  86.0        97.0      0      False      True      False   \n",
              "75008       79.0  88.0        98.0      0      False      True      False   \n",
              "75009       89.0  93.0        98.0      0      False      True      False   \n",
              "75010       90.0  92.0        97.0      0      False      True      False   \n",
              "75011       90.0  92.0        97.0      0      False      True      False   \n",
              "\n",
              "       CLASSHR  CLASSSPO2  CLASSBS  \n",
              "75007    False      False     True  \n",
              "75008    False      False     True  \n",
              "75009    False      False     True  \n",
              "75010    False      False     True  \n",
              "75011    False      False     True  "
            ],
            "text/html": [
              "\n",
              "\n",
              "  <div id=\"df-7c7c94b0-5269-4a8c-92a6-3e40e3e6773f\">\n",
              "    <div class=\"colab-df-container\">\n",
              "      <div>\n",
              "<style scoped>\n",
              "    .dataframe tbody tr th:only-of-type {\n",
              "        vertical-align: middle;\n",
              "    }\n",
              "\n",
              "    .dataframe tbody tr th {\n",
              "        vertical-align: top;\n",
              "    }\n",
              "\n",
              "    .dataframe thead th {\n",
              "        text-align: right;\n",
              "    }\n",
              "</style>\n",
              "<table border=\"1\" class=\"dataframe\">\n",
              "  <thead>\n",
              "    <tr style=\"text-align: right;\">\n",
              "      <th></th>\n",
              "      <th>No</th>\n",
              "      <th>Gender</th>\n",
              "      <th>Age</th>\n",
              "      <th>Height</th>\n",
              "      <th>Weight</th>\n",
              "      <th>Temperature</th>\n",
              "      <th>Systole</th>\n",
              "      <th>Diastole</th>\n",
              "      <th>HeartRate</th>\n",
              "      <th>Spo2</th>\n",
              "      <th>BloodSugar</th>\n",
              "      <th>Class</th>\n",
              "      <th>CLASSTEMP</th>\n",
              "      <th>CLASSSYS</th>\n",
              "      <th>CLASSDIAS</th>\n",
              "      <th>CLASSHR</th>\n",
              "      <th>CLASSSPO2</th>\n",
              "      <th>CLASSBS</th>\n",
              "    </tr>\n",
              "  </thead>\n",
              "  <tbody>\n",
              "    <tr>\n",
              "      <th>75007</th>\n",
              "      <td>75008</td>\n",
              "      <td>0</td>\n",
              "      <td>40</td>\n",
              "      <td>142</td>\n",
              "      <td>44</td>\n",
              "      <td>36.0</td>\n",
              "      <td>79.0</td>\n",
              "      <td>60.0</td>\n",
              "      <td>84.0</td>\n",
              "      <td>86.0</td>\n",
              "      <td>97.0</td>\n",
              "      <td>0</td>\n",
              "      <td>False</td>\n",
              "      <td>True</td>\n",
              "      <td>False</td>\n",
              "      <td>False</td>\n",
              "      <td>False</td>\n",
              "      <td>True</td>\n",
              "    </tr>\n",
              "    <tr>\n",
              "      <th>75008</th>\n",
              "      <td>75009</td>\n",
              "      <td>0</td>\n",
              "      <td>40</td>\n",
              "      <td>142</td>\n",
              "      <td>50</td>\n",
              "      <td>36.0</td>\n",
              "      <td>79.0</td>\n",
              "      <td>62.0</td>\n",
              "      <td>79.0</td>\n",
              "      <td>88.0</td>\n",
              "      <td>98.0</td>\n",
              "      <td>0</td>\n",
              "      <td>False</td>\n",
              "      <td>True</td>\n",
              "      <td>False</td>\n",
              "      <td>False</td>\n",
              "      <td>False</td>\n",
              "      <td>True</td>\n",
              "    </tr>\n",
              "    <tr>\n",
              "      <th>75009</th>\n",
              "      <td>75010</td>\n",
              "      <td>0</td>\n",
              "      <td>40</td>\n",
              "      <td>142</td>\n",
              "      <td>44</td>\n",
              "      <td>37.0</td>\n",
              "      <td>79.0</td>\n",
              "      <td>65.0</td>\n",
              "      <td>89.0</td>\n",
              "      <td>93.0</td>\n",
              "      <td>98.0</td>\n",
              "      <td>0</td>\n",
              "      <td>False</td>\n",
              "      <td>True</td>\n",
              "      <td>False</td>\n",
              "      <td>False</td>\n",
              "      <td>False</td>\n",
              "      <td>True</td>\n",
              "    </tr>\n",
              "    <tr>\n",
              "      <th>75010</th>\n",
              "      <td>75011</td>\n",
              "      <td>0</td>\n",
              "      <td>40</td>\n",
              "      <td>142</td>\n",
              "      <td>45</td>\n",
              "      <td>36.0</td>\n",
              "      <td>76.0</td>\n",
              "      <td>64.0</td>\n",
              "      <td>90.0</td>\n",
              "      <td>92.0</td>\n",
              "      <td>97.0</td>\n",
              "      <td>0</td>\n",
              "      <td>False</td>\n",
              "      <td>True</td>\n",
              "      <td>False</td>\n",
              "      <td>False</td>\n",
              "      <td>False</td>\n",
              "      <td>True</td>\n",
              "    </tr>\n",
              "    <tr>\n",
              "      <th>75011</th>\n",
              "      <td>75012</td>\n",
              "      <td>0</td>\n",
              "      <td>40</td>\n",
              "      <td>142</td>\n",
              "      <td>45</td>\n",
              "      <td>36.0</td>\n",
              "      <td>76.0</td>\n",
              "      <td>64.0</td>\n",
              "      <td>90.0</td>\n",
              "      <td>92.0</td>\n",
              "      <td>97.0</td>\n",
              "      <td>0</td>\n",
              "      <td>False</td>\n",
              "      <td>True</td>\n",
              "      <td>False</td>\n",
              "      <td>False</td>\n",
              "      <td>False</td>\n",
              "      <td>True</td>\n",
              "    </tr>\n",
              "  </tbody>\n",
              "</table>\n",
              "</div>\n",
              "      <button class=\"colab-df-convert\" onclick=\"convertToInteractive('df-7c7c94b0-5269-4a8c-92a6-3e40e3e6773f')\"\n",
              "              title=\"Convert this dataframe to an interactive table.\"\n",
              "              style=\"display:none;\">\n",
              "\n",
              "  <svg xmlns=\"http://www.w3.org/2000/svg\" height=\"24px\"viewBox=\"0 0 24 24\"\n",
              "       width=\"24px\">\n",
              "    <path d=\"M0 0h24v24H0V0z\" fill=\"none\"/>\n",
              "    <path d=\"M18.56 5.44l.94 2.06.94-2.06 2.06-.94-2.06-.94-.94-2.06-.94 2.06-2.06.94zm-11 1L8.5 8.5l.94-2.06 2.06-.94-2.06-.94L8.5 2.5l-.94 2.06-2.06.94zm10 10l.94 2.06.94-2.06 2.06-.94-2.06-.94-.94-2.06-.94 2.06-2.06.94z\"/><path d=\"M17.41 7.96l-1.37-1.37c-.4-.4-.92-.59-1.43-.59-.52 0-1.04.2-1.43.59L10.3 9.45l-7.72 7.72c-.78.78-.78 2.05 0 2.83L4 21.41c.39.39.9.59 1.41.59.51 0 1.02-.2 1.41-.59l7.78-7.78 2.81-2.81c.8-.78.8-2.07 0-2.86zM5.41 20L4 18.59l7.72-7.72 1.47 1.35L5.41 20z\"/>\n",
              "  </svg>\n",
              "      </button>\n",
              "\n",
              "\n",
              "\n",
              "    <div id=\"df-a40aa0cb-223b-4e0f-82f3-7b03f502d7df\">\n",
              "      <button class=\"colab-df-quickchart\" onclick=\"quickchart('df-a40aa0cb-223b-4e0f-82f3-7b03f502d7df')\"\n",
              "              title=\"Suggest charts.\"\n",
              "              style=\"display:none;\">\n",
              "\n",
              "<svg xmlns=\"http://www.w3.org/2000/svg\" height=\"24px\"viewBox=\"0 0 24 24\"\n",
              "     width=\"24px\">\n",
              "    <g>\n",
              "        <path d=\"M19 3H5c-1.1 0-2 .9-2 2v14c0 1.1.9 2 2 2h14c1.1 0 2-.9 2-2V5c0-1.1-.9-2-2-2zM9 17H7v-7h2v7zm4 0h-2V7h2v10zm4 0h-2v-4h2v4z\"/>\n",
              "    </g>\n",
              "</svg>\n",
              "      </button>\n",
              "    </div>\n",
              "\n",
              "<style>\n",
              "  .colab-df-quickchart {\n",
              "    background-color: #E8F0FE;\n",
              "    border: none;\n",
              "    border-radius: 50%;\n",
              "    cursor: pointer;\n",
              "    display: none;\n",
              "    fill: #1967D2;\n",
              "    height: 32px;\n",
              "    padding: 0 0 0 0;\n",
              "    width: 32px;\n",
              "  }\n",
              "\n",
              "  .colab-df-quickchart:hover {\n",
              "    background-color: #E2EBFA;\n",
              "    box-shadow: 0px 1px 2px rgba(60, 64, 67, 0.3), 0px 1px 3px 1px rgba(60, 64, 67, 0.15);\n",
              "    fill: #174EA6;\n",
              "  }\n",
              "\n",
              "  [theme=dark] .colab-df-quickchart {\n",
              "    background-color: #3B4455;\n",
              "    fill: #D2E3FC;\n",
              "  }\n",
              "\n",
              "  [theme=dark] .colab-df-quickchart:hover {\n",
              "    background-color: #434B5C;\n",
              "    box-shadow: 0px 1px 3px 1px rgba(0, 0, 0, 0.15);\n",
              "    filter: drop-shadow(0px 1px 2px rgba(0, 0, 0, 0.3));\n",
              "    fill: #FFFFFF;\n",
              "  }\n",
              "</style>\n",
              "\n",
              "    <script>\n",
              "      async function quickchart(key) {\n",
              "        const containerElement = document.querySelector('#' + key);\n",
              "        const charts = await google.colab.kernel.invokeFunction(\n",
              "            'suggestCharts', [key], {});\n",
              "      }\n",
              "    </script>\n",
              "\n",
              "      <script>\n",
              "\n",
              "function displayQuickchartButton(domScope) {\n",
              "  let quickchartButtonEl =\n",
              "    domScope.querySelector('#df-a40aa0cb-223b-4e0f-82f3-7b03f502d7df button.colab-df-quickchart');\n",
              "  quickchartButtonEl.style.display =\n",
              "    google.colab.kernel.accessAllowed ? 'block' : 'none';\n",
              "}\n",
              "\n",
              "        displayQuickchartButton(document);\n",
              "      </script>\n",
              "      <style>\n",
              "    .colab-df-container {\n",
              "      display:flex;\n",
              "      flex-wrap:wrap;\n",
              "      gap: 12px;\n",
              "    }\n",
              "\n",
              "    .colab-df-convert {\n",
              "      background-color: #E8F0FE;\n",
              "      border: none;\n",
              "      border-radius: 50%;\n",
              "      cursor: pointer;\n",
              "      display: none;\n",
              "      fill: #1967D2;\n",
              "      height: 32px;\n",
              "      padding: 0 0 0 0;\n",
              "      width: 32px;\n",
              "    }\n",
              "\n",
              "    .colab-df-convert:hover {\n",
              "      background-color: #E2EBFA;\n",
              "      box-shadow: 0px 1px 2px rgba(60, 64, 67, 0.3), 0px 1px 3px 1px rgba(60, 64, 67, 0.15);\n",
              "      fill: #174EA6;\n",
              "    }\n",
              "\n",
              "    [theme=dark] .colab-df-convert {\n",
              "      background-color: #3B4455;\n",
              "      fill: #D2E3FC;\n",
              "    }\n",
              "\n",
              "    [theme=dark] .colab-df-convert:hover {\n",
              "      background-color: #434B5C;\n",
              "      box-shadow: 0px 1px 3px 1px rgba(0, 0, 0, 0.15);\n",
              "      filter: drop-shadow(0px 1px 2px rgba(0, 0, 0, 0.3));\n",
              "      fill: #FFFFFF;\n",
              "    }\n",
              "  </style>\n",
              "\n",
              "      <script>\n",
              "        const buttonEl =\n",
              "          document.querySelector('#df-7c7c94b0-5269-4a8c-92a6-3e40e3e6773f button.colab-df-convert');\n",
              "        buttonEl.style.display =\n",
              "          google.colab.kernel.accessAllowed ? 'block' : 'none';\n",
              "\n",
              "        async function convertToInteractive(key) {\n",
              "          const element = document.querySelector('#df-7c7c94b0-5269-4a8c-92a6-3e40e3e6773f');\n",
              "          const dataTable =\n",
              "            await google.colab.kernel.invokeFunction('convertToInteractive',\n",
              "                                                     [key], {});\n",
              "          if (!dataTable) return;\n",
              "\n",
              "          const docLinkHtml = 'Like what you see? Visit the ' +\n",
              "            '<a target=\"_blank\" href=https://colab.research.google.com/notebooks/data_table.ipynb>data table notebook</a>'\n",
              "            + ' to learn more about interactive tables.';\n",
              "          element.innerHTML = '';\n",
              "          dataTable['output_type'] = 'display_data';\n",
              "          await google.colab.output.renderOutput(dataTable, element);\n",
              "          const docLink = document.createElement('div');\n",
              "          docLink.innerHTML = docLinkHtml;\n",
              "          element.appendChild(docLink);\n",
              "        }\n",
              "      </script>\n",
              "    </div>\n",
              "  </div>\n"
            ]
          },
          "metadata": {},
          "execution_count": 18
        }
      ],
      "source": [
        "df.tail()"
      ]
    },
    {
      "cell_type": "code",
      "execution_count": null,
      "metadata": {
        "id": "vSQvm3LzdDIL"
      },
      "outputs": [],
      "source": [
        "# df.drop(columns=['No', 'Class Temperature', 'ClassSystole', 'ClassDiastole', 'ClassHR', 'Class SPO2', 'ClassBS'])\n",
        "df.drop(df.columns[12:21],axis=1, inplace=True)"
      ]
    },
    {
      "cell_type": "code",
      "execution_count": null,
      "metadata": {
        "id": "Rjy9t6CotmSn"
      },
      "outputs": [],
      "source": [
        "df.drop(df.columns[0],axis=1,inplace=True)"
      ]
    },
    {
      "cell_type": "code",
      "execution_count": null,
      "metadata": {
        "colab": {
          "base_uri": "https://localhost:8080/",
          "height": 424
        },
        "id": "eyprckyBdGBA",
        "outputId": "d487ed49-6c59-4b65-bfdb-a2836f79de20"
      },
      "outputs": [
        {
          "output_type": "execute_result",
          "data": {
            "text/plain": [
              "       Gender  Age  Height  Weight  Temperature  Systole  Diastole  HeartRate  \\\n",
              "0           0   17     158      48         37.0    116.0      84.0       78.0   \n",
              "1           0   17     158      59         36.0    111.0      81.0       85.0   \n",
              "2           0   17     158      51         37.0    118.0      83.0       82.0   \n",
              "3           0   17     177      65         37.0    118.0      85.0       73.0   \n",
              "4           1   17     177      61         37.0    117.0      90.0       60.0   \n",
              "...       ...  ...     ...     ...          ...      ...       ...        ...   \n",
              "75007       0   40     142      44         36.0     79.0      60.0       84.0   \n",
              "75008       0   40     142      50         36.0     79.0      62.0       79.0   \n",
              "75009       0   40     142      44         37.0     79.0      65.0       89.0   \n",
              "75010       0   40     142      45         36.0     76.0      64.0       90.0   \n",
              "75011       0   40     142      45         36.0     76.0      64.0       90.0   \n",
              "\n",
              "        Spo2  BloodSugar  Class  \n",
              "0       97.0       128.0      1  \n",
              "1      100.0       100.0      1  \n",
              "2       95.0        99.0      1  \n",
              "3       97.0       123.0      1  \n",
              "4       98.0        96.0      1  \n",
              "...      ...         ...    ...  \n",
              "75007   86.0        97.0      0  \n",
              "75008   88.0        98.0      0  \n",
              "75009   93.0        98.0      0  \n",
              "75010   92.0        97.0      0  \n",
              "75011   92.0        97.0      0  \n",
              "\n",
              "[75012 rows x 11 columns]"
            ],
            "text/html": [
              "\n",
              "\n",
              "  <div id=\"df-bc51a35a-3b30-4a03-8694-08a2aa973f44\">\n",
              "    <div class=\"colab-df-container\">\n",
              "      <div>\n",
              "<style scoped>\n",
              "    .dataframe tbody tr th:only-of-type {\n",
              "        vertical-align: middle;\n",
              "    }\n",
              "\n",
              "    .dataframe tbody tr th {\n",
              "        vertical-align: top;\n",
              "    }\n",
              "\n",
              "    .dataframe thead th {\n",
              "        text-align: right;\n",
              "    }\n",
              "</style>\n",
              "<table border=\"1\" class=\"dataframe\">\n",
              "  <thead>\n",
              "    <tr style=\"text-align: right;\">\n",
              "      <th></th>\n",
              "      <th>Gender</th>\n",
              "      <th>Age</th>\n",
              "      <th>Height</th>\n",
              "      <th>Weight</th>\n",
              "      <th>Temperature</th>\n",
              "      <th>Systole</th>\n",
              "      <th>Diastole</th>\n",
              "      <th>HeartRate</th>\n",
              "      <th>Spo2</th>\n",
              "      <th>BloodSugar</th>\n",
              "      <th>Class</th>\n",
              "    </tr>\n",
              "  </thead>\n",
              "  <tbody>\n",
              "    <tr>\n",
              "      <th>0</th>\n",
              "      <td>0</td>\n",
              "      <td>17</td>\n",
              "      <td>158</td>\n",
              "      <td>48</td>\n",
              "      <td>37.0</td>\n",
              "      <td>116.0</td>\n",
              "      <td>84.0</td>\n",
              "      <td>78.0</td>\n",
              "      <td>97.0</td>\n",
              "      <td>128.0</td>\n",
              "      <td>1</td>\n",
              "    </tr>\n",
              "    <tr>\n",
              "      <th>1</th>\n",
              "      <td>0</td>\n",
              "      <td>17</td>\n",
              "      <td>158</td>\n",
              "      <td>59</td>\n",
              "      <td>36.0</td>\n",
              "      <td>111.0</td>\n",
              "      <td>81.0</td>\n",
              "      <td>85.0</td>\n",
              "      <td>100.0</td>\n",
              "      <td>100.0</td>\n",
              "      <td>1</td>\n",
              "    </tr>\n",
              "    <tr>\n",
              "      <th>2</th>\n",
              "      <td>0</td>\n",
              "      <td>17</td>\n",
              "      <td>158</td>\n",
              "      <td>51</td>\n",
              "      <td>37.0</td>\n",
              "      <td>118.0</td>\n",
              "      <td>83.0</td>\n",
              "      <td>82.0</td>\n",
              "      <td>95.0</td>\n",
              "      <td>99.0</td>\n",
              "      <td>1</td>\n",
              "    </tr>\n",
              "    <tr>\n",
              "      <th>3</th>\n",
              "      <td>0</td>\n",
              "      <td>17</td>\n",
              "      <td>177</td>\n",
              "      <td>65</td>\n",
              "      <td>37.0</td>\n",
              "      <td>118.0</td>\n",
              "      <td>85.0</td>\n",
              "      <td>73.0</td>\n",
              "      <td>97.0</td>\n",
              "      <td>123.0</td>\n",
              "      <td>1</td>\n",
              "    </tr>\n",
              "    <tr>\n",
              "      <th>4</th>\n",
              "      <td>1</td>\n",
              "      <td>17</td>\n",
              "      <td>177</td>\n",
              "      <td>61</td>\n",
              "      <td>37.0</td>\n",
              "      <td>117.0</td>\n",
              "      <td>90.0</td>\n",
              "      <td>60.0</td>\n",
              "      <td>98.0</td>\n",
              "      <td>96.0</td>\n",
              "      <td>1</td>\n",
              "    </tr>\n",
              "    <tr>\n",
              "      <th>...</th>\n",
              "      <td>...</td>\n",
              "      <td>...</td>\n",
              "      <td>...</td>\n",
              "      <td>...</td>\n",
              "      <td>...</td>\n",
              "      <td>...</td>\n",
              "      <td>...</td>\n",
              "      <td>...</td>\n",
              "      <td>...</td>\n",
              "      <td>...</td>\n",
              "      <td>...</td>\n",
              "    </tr>\n",
              "    <tr>\n",
              "      <th>75007</th>\n",
              "      <td>0</td>\n",
              "      <td>40</td>\n",
              "      <td>142</td>\n",
              "      <td>44</td>\n",
              "      <td>36.0</td>\n",
              "      <td>79.0</td>\n",
              "      <td>60.0</td>\n",
              "      <td>84.0</td>\n",
              "      <td>86.0</td>\n",
              "      <td>97.0</td>\n",
              "      <td>0</td>\n",
              "    </tr>\n",
              "    <tr>\n",
              "      <th>75008</th>\n",
              "      <td>0</td>\n",
              "      <td>40</td>\n",
              "      <td>142</td>\n",
              "      <td>50</td>\n",
              "      <td>36.0</td>\n",
              "      <td>79.0</td>\n",
              "      <td>62.0</td>\n",
              "      <td>79.0</td>\n",
              "      <td>88.0</td>\n",
              "      <td>98.0</td>\n",
              "      <td>0</td>\n",
              "    </tr>\n",
              "    <tr>\n",
              "      <th>75009</th>\n",
              "      <td>0</td>\n",
              "      <td>40</td>\n",
              "      <td>142</td>\n",
              "      <td>44</td>\n",
              "      <td>37.0</td>\n",
              "      <td>79.0</td>\n",
              "      <td>65.0</td>\n",
              "      <td>89.0</td>\n",
              "      <td>93.0</td>\n",
              "      <td>98.0</td>\n",
              "      <td>0</td>\n",
              "    </tr>\n",
              "    <tr>\n",
              "      <th>75010</th>\n",
              "      <td>0</td>\n",
              "      <td>40</td>\n",
              "      <td>142</td>\n",
              "      <td>45</td>\n",
              "      <td>36.0</td>\n",
              "      <td>76.0</td>\n",
              "      <td>64.0</td>\n",
              "      <td>90.0</td>\n",
              "      <td>92.0</td>\n",
              "      <td>97.0</td>\n",
              "      <td>0</td>\n",
              "    </tr>\n",
              "    <tr>\n",
              "      <th>75011</th>\n",
              "      <td>0</td>\n",
              "      <td>40</td>\n",
              "      <td>142</td>\n",
              "      <td>45</td>\n",
              "      <td>36.0</td>\n",
              "      <td>76.0</td>\n",
              "      <td>64.0</td>\n",
              "      <td>90.0</td>\n",
              "      <td>92.0</td>\n",
              "      <td>97.0</td>\n",
              "      <td>0</td>\n",
              "    </tr>\n",
              "  </tbody>\n",
              "</table>\n",
              "<p>75012 rows × 11 columns</p>\n",
              "</div>\n",
              "      <button class=\"colab-df-convert\" onclick=\"convertToInteractive('df-bc51a35a-3b30-4a03-8694-08a2aa973f44')\"\n",
              "              title=\"Convert this dataframe to an interactive table.\"\n",
              "              style=\"display:none;\">\n",
              "\n",
              "  <svg xmlns=\"http://www.w3.org/2000/svg\" height=\"24px\"viewBox=\"0 0 24 24\"\n",
              "       width=\"24px\">\n",
              "    <path d=\"M0 0h24v24H0V0z\" fill=\"none\"/>\n",
              "    <path d=\"M18.56 5.44l.94 2.06.94-2.06 2.06-.94-2.06-.94-.94-2.06-.94 2.06-2.06.94zm-11 1L8.5 8.5l.94-2.06 2.06-.94-2.06-.94L8.5 2.5l-.94 2.06-2.06.94zm10 10l.94 2.06.94-2.06 2.06-.94-2.06-.94-.94-2.06-.94 2.06-2.06.94z\"/><path d=\"M17.41 7.96l-1.37-1.37c-.4-.4-.92-.59-1.43-.59-.52 0-1.04.2-1.43.59L10.3 9.45l-7.72 7.72c-.78.78-.78 2.05 0 2.83L4 21.41c.39.39.9.59 1.41.59.51 0 1.02-.2 1.41-.59l7.78-7.78 2.81-2.81c.8-.78.8-2.07 0-2.86zM5.41 20L4 18.59l7.72-7.72 1.47 1.35L5.41 20z\"/>\n",
              "  </svg>\n",
              "      </button>\n",
              "\n",
              "\n",
              "\n",
              "    <div id=\"df-c7191046-189c-495c-9fc8-2ed17a1159ec\">\n",
              "      <button class=\"colab-df-quickchart\" onclick=\"quickchart('df-c7191046-189c-495c-9fc8-2ed17a1159ec')\"\n",
              "              title=\"Suggest charts.\"\n",
              "              style=\"display:none;\">\n",
              "\n",
              "<svg xmlns=\"http://www.w3.org/2000/svg\" height=\"24px\"viewBox=\"0 0 24 24\"\n",
              "     width=\"24px\">\n",
              "    <g>\n",
              "        <path d=\"M19 3H5c-1.1 0-2 .9-2 2v14c0 1.1.9 2 2 2h14c1.1 0 2-.9 2-2V5c0-1.1-.9-2-2-2zM9 17H7v-7h2v7zm4 0h-2V7h2v10zm4 0h-2v-4h2v4z\"/>\n",
              "    </g>\n",
              "</svg>\n",
              "      </button>\n",
              "    </div>\n",
              "\n",
              "<style>\n",
              "  .colab-df-quickchart {\n",
              "    background-color: #E8F0FE;\n",
              "    border: none;\n",
              "    border-radius: 50%;\n",
              "    cursor: pointer;\n",
              "    display: none;\n",
              "    fill: #1967D2;\n",
              "    height: 32px;\n",
              "    padding: 0 0 0 0;\n",
              "    width: 32px;\n",
              "  }\n",
              "\n",
              "  .colab-df-quickchart:hover {\n",
              "    background-color: #E2EBFA;\n",
              "    box-shadow: 0px 1px 2px rgba(60, 64, 67, 0.3), 0px 1px 3px 1px rgba(60, 64, 67, 0.15);\n",
              "    fill: #174EA6;\n",
              "  }\n",
              "\n",
              "  [theme=dark] .colab-df-quickchart {\n",
              "    background-color: #3B4455;\n",
              "    fill: #D2E3FC;\n",
              "  }\n",
              "\n",
              "  [theme=dark] .colab-df-quickchart:hover {\n",
              "    background-color: #434B5C;\n",
              "    box-shadow: 0px 1px 3px 1px rgba(0, 0, 0, 0.15);\n",
              "    filter: drop-shadow(0px 1px 2px rgba(0, 0, 0, 0.3));\n",
              "    fill: #FFFFFF;\n",
              "  }\n",
              "</style>\n",
              "\n",
              "    <script>\n",
              "      async function quickchart(key) {\n",
              "        const containerElement = document.querySelector('#' + key);\n",
              "        const charts = await google.colab.kernel.invokeFunction(\n",
              "            'suggestCharts', [key], {});\n",
              "      }\n",
              "    </script>\n",
              "\n",
              "      <script>\n",
              "\n",
              "function displayQuickchartButton(domScope) {\n",
              "  let quickchartButtonEl =\n",
              "    domScope.querySelector('#df-c7191046-189c-495c-9fc8-2ed17a1159ec button.colab-df-quickchart');\n",
              "  quickchartButtonEl.style.display =\n",
              "    google.colab.kernel.accessAllowed ? 'block' : 'none';\n",
              "}\n",
              "\n",
              "        displayQuickchartButton(document);\n",
              "      </script>\n",
              "      <style>\n",
              "    .colab-df-container {\n",
              "      display:flex;\n",
              "      flex-wrap:wrap;\n",
              "      gap: 12px;\n",
              "    }\n",
              "\n",
              "    .colab-df-convert {\n",
              "      background-color: #E8F0FE;\n",
              "      border: none;\n",
              "      border-radius: 50%;\n",
              "      cursor: pointer;\n",
              "      display: none;\n",
              "      fill: #1967D2;\n",
              "      height: 32px;\n",
              "      padding: 0 0 0 0;\n",
              "      width: 32px;\n",
              "    }\n",
              "\n",
              "    .colab-df-convert:hover {\n",
              "      background-color: #E2EBFA;\n",
              "      box-shadow: 0px 1px 2px rgba(60, 64, 67, 0.3), 0px 1px 3px 1px rgba(60, 64, 67, 0.15);\n",
              "      fill: #174EA6;\n",
              "    }\n",
              "\n",
              "    [theme=dark] .colab-df-convert {\n",
              "      background-color: #3B4455;\n",
              "      fill: #D2E3FC;\n",
              "    }\n",
              "\n",
              "    [theme=dark] .colab-df-convert:hover {\n",
              "      background-color: #434B5C;\n",
              "      box-shadow: 0px 1px 3px 1px rgba(0, 0, 0, 0.15);\n",
              "      filter: drop-shadow(0px 1px 2px rgba(0, 0, 0, 0.3));\n",
              "      fill: #FFFFFF;\n",
              "    }\n",
              "  </style>\n",
              "\n",
              "      <script>\n",
              "        const buttonEl =\n",
              "          document.querySelector('#df-bc51a35a-3b30-4a03-8694-08a2aa973f44 button.colab-df-convert');\n",
              "        buttonEl.style.display =\n",
              "          google.colab.kernel.accessAllowed ? 'block' : 'none';\n",
              "\n",
              "        async function convertToInteractive(key) {\n",
              "          const element = document.querySelector('#df-bc51a35a-3b30-4a03-8694-08a2aa973f44');\n",
              "          const dataTable =\n",
              "            await google.colab.kernel.invokeFunction('convertToInteractive',\n",
              "                                                     [key], {});\n",
              "          if (!dataTable) return;\n",
              "\n",
              "          const docLinkHtml = 'Like what you see? Visit the ' +\n",
              "            '<a target=\"_blank\" href=https://colab.research.google.com/notebooks/data_table.ipynb>data table notebook</a>'\n",
              "            + ' to learn more about interactive tables.';\n",
              "          element.innerHTML = '';\n",
              "          dataTable['output_type'] = 'display_data';\n",
              "          await google.colab.output.renderOutput(dataTable, element);\n",
              "          const docLink = document.createElement('div');\n",
              "          docLink.innerHTML = docLinkHtml;\n",
              "          element.appendChild(docLink);\n",
              "        }\n",
              "      </script>\n",
              "    </div>\n",
              "  </div>\n"
            ]
          },
          "metadata": {},
          "execution_count": 21
        }
      ],
      "source": [
        "df.loc[:, ~df.columns.str.contains('^Unnamed')]"
      ]
    },
    {
      "cell_type": "code",
      "execution_count": null,
      "metadata": {
        "colab": {
          "base_uri": "https://localhost:8080/"
        },
        "id": "6EskRsgBxaVx",
        "outputId": "d68b895b-77d3-42c4-bb4a-faab679e9280"
      },
      "outputs": [
        {
          "output_type": "stream",
          "name": "stdout",
          "text": [
            "<class 'pandas.core.frame.DataFrame'>\n",
            "RangeIndex: 75012 entries, 0 to 75011\n",
            "Data columns (total 11 columns):\n",
            " #   Column       Non-Null Count  Dtype  \n",
            "---  ------       --------------  -----  \n",
            " 0   Gender       75012 non-null  int64  \n",
            " 1   Age          75012 non-null  int64  \n",
            " 2   Height       75012 non-null  int64  \n",
            " 3   Weight       75012 non-null  int64  \n",
            " 4   Temperature  75012 non-null  float64\n",
            " 5   Systole      75012 non-null  float64\n",
            " 6   Diastole     75012 non-null  float64\n",
            " 7   HeartRate    75012 non-null  float64\n",
            " 8   Spo2         75012 non-null  float64\n",
            " 9   BloodSugar   75012 non-null  float64\n",
            " 10  Class        75012 non-null  int64  \n",
            "dtypes: float64(6), int64(5)\n",
            "memory usage: 6.3 MB\n"
          ]
        }
      ],
      "source": [
        "df.info()"
      ]
    },
    {
      "cell_type": "code",
      "execution_count": null,
      "metadata": {
        "colab": {
          "base_uri": "https://localhost:8080/"
        },
        "id": "zkEpqFODdcmA",
        "outputId": "bac20937-c0ff-4093-956f-56988ecf371c"
      },
      "outputs": [
        {
          "output_type": "stream",
          "name": "stdout",
          "text": [
            "JUmlah sehat: 37926\n",
            "JUmlah sakit: 37086\n"
          ]
        }
      ],
      "source": [
        "# sehat = df.Class == 1\n",
        "# sehat.sum()\n",
        "\n",
        "sehat = df.iloc[:,10].sum()\n",
        "sakit = (df.iloc[:,10] == 0).sum()\n",
        "print(\"JUmlah sehat:\", sehat)\n",
        "print(\"JUmlah sakit:\", sakit)"
      ]
    },
    {
      "cell_type": "code",
      "execution_count": null,
      "metadata": {
        "colab": {
          "base_uri": "https://localhost:8080/"
        },
        "id": "56ZY_kpzdhsi",
        "outputId": "020f4260-cdf5-46d5-ac10-ee79c736a50b"
      },
      "outputs": [
        {
          "output_type": "execute_result",
          "data": {
            "text/plain": [
              "Gender         0\n",
              "Age            0\n",
              "Height         0\n",
              "Weight         0\n",
              "Temperature    0\n",
              "Systole        0\n",
              "Diastole       0\n",
              "HeartRate      0\n",
              "Spo2           0\n",
              "BloodSugar     0\n",
              "Class          0\n",
              "dtype: int64"
            ]
          },
          "metadata": {},
          "execution_count": 24
        }
      ],
      "source": [
        "df.isnull().sum()"
      ]
    },
    {
      "cell_type": "code",
      "execution_count": null,
      "metadata": {
        "id": "qQKQOJIbHvKd"
      },
      "outputs": [],
      "source": [
        "# # Mengisi nilai NaN dengan nilai rata-rata kolom\n",
        "# mean_value = df.mean()\n",
        "# df = df.fillna(mean_value)"
      ]
    },
    {
      "cell_type": "code",
      "execution_count": null,
      "metadata": {
        "colab": {
          "background_save": true
        },
        "id": "VPqXAyxTpxOH"
      },
      "outputs": [],
      "source": [
        "# df.isnull().sum()"
      ]
    },
    {
      "cell_type": "code",
      "execution_count": null,
      "metadata": {
        "colab": {
          "base_uri": "https://localhost:8080/"
        },
        "id": "KO2BMvrMdlZT",
        "outputId": "9f2c6556-dca1-4d0c-93b1-b2a06d5c6a09"
      },
      "outputs": [
        {
          "output_type": "execute_result",
          "data": {
            "text/plain": [
              "1134"
            ]
          },
          "metadata": {},
          "execution_count": 25
        }
      ],
      "source": [
        "df.duplicated().sum()"
      ]
    },
    {
      "cell_type": "code",
      "execution_count": null,
      "metadata": {
        "id": "bWcm4Iy-IAJG"
      },
      "outputs": [],
      "source": [
        "#  Mengatasi data yang sama/terduplikat\n",
        "df = df.drop_duplicates()"
      ]
    },
    {
      "cell_type": "code",
      "execution_count": null,
      "metadata": {
        "colab": {
          "base_uri": "https://localhost:8080/"
        },
        "id": "tzhN3K5QIDnA",
        "outputId": "67c32539-04a2-4b34-d130-3a4ef7dfe0ba"
      },
      "outputs": [
        {
          "output_type": "execute_result",
          "data": {
            "text/plain": [
              "0"
            ]
          },
          "metadata": {},
          "execution_count": 27
        }
      ],
      "source": [
        "df.duplicated().sum()"
      ]
    },
    {
      "cell_type": "code",
      "execution_count": null,
      "metadata": {
        "id": "Nb7t-1SLzbF_"
      },
      "outputs": [],
      "source": [
        "import matplotlib.pyplot as plt\n",
        "import seaborn as sns\n",
        "\n",
        "# x = df.drop(['Class'], axis=1)\n",
        "# y = df.Class\n"
      ]
    },
    {
      "cell_type": "code",
      "execution_count": null,
      "metadata": {
        "colab": {
          "base_uri": "https://localhost:8080/",
          "height": 509
        },
        "id": "pCb1uYZlxGej",
        "outputId": "70219ba4-645c-4b9e-aced-8ca5b804c812"
      },
      "outputs": [
        {
          "output_type": "display_data",
          "data": {
            "text/plain": [
              "<Figure size 640x480 with 2 Axes>"
            ],
            "image/png": "[encoded data removed]"
          },
          "metadata": {}
        }
      ],
      "source": [
        "#Now, let's look at the numerical data. Creating correlation heatmap\n",
        "\n",
        "sns.heatmap(df.corr(),annot=True);\n",
        "\n",
        "#Tenure and TotalCharges, Monthly and TotalCharges are corelated and it makes sense,as totalcharges = tenure*MonthlyCharges"
      ]
    },
    {
      "cell_type": "code",
      "execution_count": null,
      "metadata": {
        "id": "BKfquELiHhBn"
      },
      "outputs": [],
      "source": [
        "def exp2(columns):\n",
        "    sns.histplot(data=df, x=columns, hue='Class')\n",
        "    plt.show()"
      ]
    },
    {
      "cell_type": "code",
      "execution_count": null,
      "metadata": {
        "id": "sdyjmPZaHnxk"
      },
      "outputs": [],
      "source": [
        "num = ['Gender', 'Age', 'Height', 'Weight', 'Temperature', 'Systole', 'Diastole', 'HeartRate', 'Spo2', 'BloodSugar', 'Class']"
      ]
    },
    {
      "cell_type": "code",
      "execution_count": null,
      "metadata": {
        "colab": {
          "base_uri": "https://localhost:8080/",
          "height": 1000
        },
        "id": "jUI2e8eKHr9h",
        "outputId": "3bdbb725-9c3c-4281-d155-8e73cf3e9090"
      },
      "outputs": [
        {
          "output_type": "display_data",
          "data": {
            "text/plain": [
              "<Figure size 640x480 with 1 Axes>"
            ],
            "image/png": "[encoded data removed]"
          },
          "metadata": {}
        },
        {
          "output_type": "display_data",
          "data": {
            "text/plain": [
              "<Figure size 640x480 with 1 Axes>"
            ],
            "image/png": "[encoded data removed]"
          },
          "metadata": {}
        },
        {
          "output_type": "display_data",
          "data": {
            "text/plain": [
              "<Figure size 640x480 with 1 Axes>"
            ],
            "image/png": "[encoded data removed]"
          },
          "metadata": {}
        },
        {
          "output_type": "display_data",
          "data": {
            "text/plain": [
              "<Figure size 640x480 with 1 Axes>"
            ],
            "image/png": "[encoded data removed]"
          },
          "metadata": {}
        },
        {
          "output_type": "display_data",
          "data": {
            "text/plain": [
              "<Figure size 640x480 with 1 Axes>"
            ],
            "image/png": "[encoded data removed]"
          },
          "metadata": {}
        },
        {
          "output_type": "display_data",
          "data": {
            "text/plain": [
              "<Figure size 640x480 with 1 Axes>"
            ],
            "image/png": "[encoded data removed]"
          },
          "metadata": {}
        },
        {
          "output_type": "display_data",
          "data": {
            "text/plain": [
              "<Figure size 640x480 with 1 Axes>"
            ],
            "image/png": "[encoded data removed]"
          },
          "metadata": {}
        },
        {
          "output_type": "display_data",
          "data": {
            "text/plain": [
              "<Figure size 640x480 with 1 Axes>"
            ],
            "image/png": "[encoded data removed]"
          },
          "metadata": {}
        },
        {
          "output_type": "display_data",
          "data": {
            "text/plain": [
              "<Figure size 640x480 with 1 Axes>"
            ],
            "image/png": "[encoded data removed]"
          },
          "metadata": {}
        },
        {
          "output_type": "display_data",
          "data": {
            "text/plain": [
              "<Figure size 640x480 with 1 Axes>"
            ],
            "image/png": "[encoded data removed]"
          },
          "metadata": {}
        },
        {
          "output_type": "display_data",
          "data": {
            "text/plain": [
              "<Figure size 640x480 with 1 Axes>"
            ],
            "image/png": "[encoded data removed]"
          },
          "metadata": {}
        }
      ],
      "source": [
        "for feature in num:\n",
        "    exp2(feature)"
      ]
    },
    {
      "cell_type": "code",
      "execution_count": null,
      "metadata": {
        "colab": {
          "base_uri": "https://localhost:8080/",
          "height": 509
        },
        "id": "0PT9d6nKKihF",
        "outputId": "eed8f7c0-68e5-4084-e5c3-918feede4a19"
      },
      "outputs": [
        {
          "data": {
            "image/png": "[encoded data removed]",
            "text/plain": [
              "<Figure size 640x480 with 2 Axes>"
            ]
          },
          "metadata": {},
          "output_type": "display_data"
        }
      ],
      "source": [
        "# Menghitung korelasi\n",
        "correlation = df.corr()\n",
        "\n",
        "# Membuat heatmap untuk korelasi\n",
        "sns.heatmap(correlation, annot=True, cmap='coolwarm')\n",
        "\n",
        "# Menampilkan plot\n",
        "plt.show()"
      ]
    },
    {
      "cell_type": "code",
      "execution_count": null,
      "metadata": {
        "colab": {
          "base_uri": "https://localhost:8080/"
        },
        "id": "eDjYezV4K51X",
        "outputId": "9b470b00-8bf2-4a96-c950-59d965de057d"
      },
      "outputs": [
        {
          "name": "stdout",
          "output_type": "stream",
          "text": [
            "Korelasi antara fitur1 dan fitur2: 0.317168960694647\n",
            "Korelasi antara fitur1 dan fitur3: -0.17455785280694425\n",
            "Korelasi antara fitur2 dan fitur3: 0.6971200253676468\n",
            "Tidak ada korelasi yang jelas di antara ketiga fitur.\n"
          ]
        }
      ],
      "source": [
        "# Memilih tiga fitur yang ingin dikorelasikan\n",
        "fitur1 = df['Height']\n",
        "fitur2 = df['Weight']\n",
        "fitur3 = df['BloodSugar']\n",
        "\n",
        "# Menghitung koefisien korelasi antara fitur1 dan fitur2\n",
        "korelasi_12 = fitur1.corr(fitur2)\n",
        "\n",
        "# Menghitung koefisien korelasi antara fitur1 dan fitur3\n",
        "korelasi_13 = fitur1.corr(fitur3)\n",
        "\n",
        "# Menghitung koefisien korelasi antara fitur2 dan fitur3\n",
        "korelasi_23 = fitur2.corr(fitur3)\n",
        "\n",
        "# Menampilkan hasil korelasi\n",
        "print(\"Korelasi antara fitur1 dan fitur2:\", korelasi_12)\n",
        "print(\"Korelasi antara fitur1 dan fitur3:\", korelasi_13)\n",
        "print(\"Korelasi antara fitur2 dan fitur3:\", korelasi_23)\n",
        "\n",
        "# Menentukan korelasi keseluruhan\n",
        "if korelasi_12 > 0 and korelasi_13 > 0 and korelasi_23 > 0:\n",
        "    print(\"Korelasi positif di antara ketiga fitur.\")\n",
        "elif korelasi_12 < 0 and korelasi_13 < 0 and korelasi_23 < 0:\n",
        "    print(\"Korelasi negatif di antara ketiga fitur.\")\n",
        "else:\n",
        "    print(\"Tidak ada korelasi yang jelas di antara ketiga fitur.\")\n"
      ]
    },
    {
      "cell_type": "code",
      "execution_count": null,
      "metadata": {
        "colab": {
          "base_uri": "https://localhost:8080/"
        },
        "id": "ECA3_m90P6jn",
        "outputId": "336c07da-57b4-4c19-8a9d-e0cb822f432d"
      },
      "outputs": [
        {
          "name": "stdout",
          "output_type": "stream",
          "text": [
            "Korelasi antara fitur1 dan fitur2: 0.0321824290394661\n",
            "Korelasi antara fitur1 dan fitur3: -0.0694352671258198\n",
            "Korelasi antara fitur2 dan fitur3: 0.9161399843792006\n",
            "Tidak ada korelasi yang jelas di antara ketiga fitur.\n"
          ]
        }
      ],
      "source": [
        "# Memilih tiga fitur yang ingin dikorelasikan\n",
        "fitur1 = df['Age']\n",
        "fitur2 = df['Systole']\n",
        "fitur3 = df['Diastole']\n",
        "\n",
        "# Menghitung koefisien korelasi antara fitur1 dan fitur2\n",
        "korelasi_12 = fitur1.corr(fitur2)\n",
        "\n",
        "# Menghitung koefisien korelasi antara fitur1 dan fitur3\n",
        "korelasi_13 = fitur1.corr(fitur3)\n",
        "\n",
        "# Menghitung koefisien korelasi antara fitur2 dan fitur3\n",
        "korelasi_23 = fitur2.corr(fitur3)\n",
        "\n",
        "# Menampilkan hasil korelasi\n",
        "print(\"Korelasi antara fitur1 dan fitur2:\", korelasi_12)\n",
        "print(\"Korelasi antara fitur1 dan fitur3:\", korelasi_13)\n",
        "print(\"Korelasi antara fitur2 dan fitur3:\", korelasi_23)\n",
        "\n",
        "# Menentukan korelasi keseluruhan\n",
        "if korelasi_12 > 0 and korelasi_13 > 0 and korelasi_23 > 0:\n",
        "    print(\"Korelasi positif di antara ketiga fitur.\")\n",
        "elif korelasi_12 < 0 and korelasi_13 < 0 and korelasi_23 < 0:\n",
        "    print(\"Korelasi negatif di antara ketiga fitur.\")\n",
        "else:\n",
        "    print(\"Tidak ada korelasi yang jelas di antara ketiga fitur.\")\n"
      ]
    },
    {
      "cell_type": "code",
      "execution_count": null,
      "metadata": {
        "id": "dkCNsqIB2sAU"
      },
      "outputs": [],
      "source": [
        "# # Pair plot to visualize relationships between features\n",
        "# sns.pairplot(df, hue='Class')\n",
        "# plt.show()\n",
        "\n",
        "# # Box plot to visualize feature distributions\n",
        "# plt.figure(figsize=(10, 6))\n",
        "# sns.boxplot(x, axis=1)\n",
        "# plt.xticks(rotation=45)\n",
        "# plt.show()"
      ]
    },
    {
      "cell_type": "code",
      "execution_count": null,
      "metadata": {
        "id": "MDr-C2dwJ8cG"
      },
      "outputs": [],
      "source": [
        "# # Pair plot to visualize relationships between features\n",
        "# sns.pairplot(df, hue='Class')\n",
        "# plt.show()\n",
        "\n",
        "# # Box plot to visualize feature distributions\n",
        "# plt.figure(figsize=(10, 6))\n",
        "# sns.boxplot(x, axis=1)\n",
        "# plt.xticks(rotation=45)\n",
        "# plt.show()"
      ]
    },
    {
      "cell_type": "markdown",
      "metadata": {
        "id": "1qJ8qVONODmg"
      },
      "source": [
        "# **modeling**"
      ]
    },
    {
      "cell_type": "code",
      "execution_count": null,
      "metadata": {
        "id": "qhKERvs1dmfQ"
      },
      "outputs": [],
      "source": [
        "from sklearn.model_selection import train_test_split"
      ]
    },
    {
      "cell_type": "code",
      "execution_count": null,
      "metadata": {
        "id": "eboou8ItdqOX"
      },
      "outputs": [],
      "source": [
        "x_train, x_test, y_train, y_test = train_test_split(\n",
        "    df.drop(['Class'], axis=1),\n",
        "    df.Class,\n",
        "    test_size = 0.2,\n",
        "    random_state = 0,\n",
        "    stratify=df.Class\n",
        "    )\n",
        "\n",
        "# x_train, x_test, y_train, y_test = train_test_split(x, y, test_size=0.2)"
      ]
    },
    {
      "cell_type": "code",
      "execution_count": null,
      "metadata": {
        "colab": {
          "base_uri": "https://localhost:8080/"
        },
        "id": "kqMh5QZ3dtgg",
        "outputId": "c4dcb791-03cb-4d55-b7a7-e78a68e12d39"
      },
      "outputs": [
        {
          "output_type": "stream",
          "name": "stdout",
          "text": [
            "Total of sample in train dataset: 59102\n",
            "Total of sample in test dataset: 14776\n"
          ]
        }
      ],
      "source": [
        "print(f'Total of sample in train dataset: {len(x_train)}')\n",
        "print(f'Total of sample in test dataset: {len(x_test)}')"
      ]
    },
    {
      "cell_type": "code",
      "execution_count": null,
      "metadata": {
        "id": "ilctG_rddwAI"
      },
      "outputs": [],
      "source": [
        "from sklearn.svm import SVC"
      ]
    },
    {
      "cell_type": "code",
      "execution_count": null,
      "metadata": {
        "id": "o4zyNqy5y7fu"
      },
      "outputs": [],
      "source": [
        "from sklearn import svm\n",
        "from sklearn.metrics import accuracy_score\n",
        "from sklearn.model_selection import train_test_split"
      ]
    },
    {
      "cell_type": "code",
      "execution_count": null,
      "metadata": {
        "id": "GVe0cnhZtFZC"
      },
      "outputs": [],
      "source": [
        "# Inisialisasi model SVM dengan kernel linier\n",
        "model_linear = svm.SVC(kernel='linear', probability=True)\n",
        "model_linear.fit(x_train, y_train)\n",
        "y_pred_linear_train = model_linear.predict(x_train)\n",
        "y_pred_linear_test = model_linear.predict(x_test)\n",
        "accuracy_linear_train = accuracy_score(y_train, y_pred_linear_train)\n",
        "accuracy_linear_test = accuracy_score(y_test, y_pred_linear_test)\n",
        "print(\"Akurasi pelatihan (kernel linier):\", accuracy_linear_train)\n",
        "print(\"Akurasi pengujian (kernel linier):\", accuracy_linear_test)\n"
      ]
    },
    {
      "cell_type": "code",
      "execution_count": null,
      "metadata": {
        "colab": {
          "base_uri": "https://localhost:8080/"
        },
        "id": "LdKNaIH8tP7p",
        "outputId": "ab3035ff-022e-4df5-9606-571aa2be2c38"
      },
      "outputs": [
        {
          "output_type": "stream",
          "name": "stdout",
          "text": [
            "Akurasi pelatihan (kernel RBF): 0.9614057053906805\n",
            "Akurasi pengujian (kernel RBF): 0.9608148348673524\n"
          ]
        }
      ],
      "source": [
        "# Inisialisasi model SVM dengan kernel RBF\n",
        "model_rbf = svm.SVC(kernel='rbf', probability=True)\n",
        "model_rbf.fit(x_train, y_train)\n",
        "y_pred_rbf_train = model_rbf.predict(x_train)\n",
        "y_pred_rbf_test = model_rbf.predict(x_test)\n",
        "accuracy_rbf_train = accuracy_score(y_train, y_pred_rbf_train)\n",
        "accuracy_rbf_test = accuracy_score(y_test, y_pred_rbf_test)\n",
        "print(\"Akurasi pelatihan (kernel RBF):\", accuracy_rbf_train)\n",
        "print(\"Akurasi pengujian (kernel RBF):\", accuracy_rbf_test)\n"
      ]
    },
    {
      "cell_type": "code",
      "execution_count": null,
      "metadata": {
        "colab": {
          "base_uri": "https://localhost:8080/"
        },
        "id": "20FtaA6djZRB",
        "outputId": "1ff97d36-adf4-4071-c0fa-4338a41ea01f"
      },
      "outputs": [
        {
          "output_type": "stream",
          "name": "stdout",
          "text": [
            "Akurasi pelatihan (kernel polinomial): 0.9650096443436771\n",
            "Akurasi pengujian (kernel polinomial): 0.9639279913373038\n"
          ]
        }
      ],
      "source": [
        "# Inisialisasi model SVM dengan kernel polinomial\n",
        "model_poly = svm.SVC(kernel='poly', C=1, probability=True)\n",
        "model_poly.fit(x_train, y_train)\n",
        "y_pred_poly_train = model_poly.predict(x_train)\n",
        "y_pred_poly_test = model_poly.predict(x_test)\n",
        "accuracy_poly_train = accuracy_score(y_train, y_pred_poly_train)\n",
        "accuracy_poly_test = accuracy_score(y_test, y_pred_poly_test)\n",
        "print(\"Akurasi pelatihan (kernel polinomial):\", accuracy_poly_train)\n",
        "print(\"Akurasi pengujian (kernel polinomial):\", accuracy_poly_test)"
      ]
    },
    {
      "cell_type": "code",
      "execution_count": null,
      "metadata": {
        "colab": {
          "base_uri": "https://localhost:8080/"
        },
        "id": "It_UDOZHtVEF",
        "outputId": "54b78bb9-d187-490c-8bd7-15f8316cb9e7"
      },
      "outputs": [
        {
          "output_type": "stream",
          "name": "stdout",
          "text": [
            "Akurasi pelatihan (kernel sigmoid): 0.602534601197929\n",
            "Akurasi pengujian (kernel sigmoid): 0.6013129399025446\n"
          ]
        }
      ],
      "source": [
        "# Inisialisasi model SVM dengan kernel sigmoid\n",
        "model_sigmoid = svm.SVC(kernel='sigmoid', probability=True)\n",
        "model_sigmoid.fit(x_train, y_train)\n",
        "y_pred_sigmoid_train = model_sigmoid.predict(x_train)\n",
        "y_pred_sigmoid_test = model_sigmoid.predict(x_test)\n",
        "accuracy_sigmoid_train = accuracy_score(y_train, y_pred_sigmoid_train)\n",
        "accuracy_sigmoid_test = accuracy_score(y_test, y_pred_sigmoid_test)\n",
        "print(\"Akurasi pelatihan (kernel sigmoid):\", accuracy_sigmoid_train)\n",
        "print(\"Akurasi pengujian (kernel sigmoid):\", accuracy_sigmoid_test)"
      ]
    },
    {
      "cell_type": "markdown",
      "metadata": {
        "id": "tnYIu6cofB5k"
      },
      "source": [
        "# **tes data alat**"
      ]
    },
    {
      "cell_type": "code",
      "execution_count": null,
      "metadata": {
        "id": "hnIxeGSCIX67"
      },
      "outputs": [],
      "source": [
        "import pandas as pd\n",
        "df_ganda = pd.read_csv('/content/data uji coba.csv')"
      ]
    },
    {
      "cell_type": "code",
      "execution_count": null,
      "metadata": {
        "colab": {
          "base_uri": "https://localhost:8080/"
        },
        "id": "PZXl3hawIvHb",
        "outputId": "4b3ab2d0-9dc3-4fdf-c9bd-04064bfade09"
      },
      "outputs": [
        {
          "name": "stdout",
          "output_type": "stream",
          "text": [
            "<class 'pandas.core.frame.DataFrame'>\n",
            "RangeIndex: 276 entries, 0 to 275\n",
            "Data columns (total 12 columns):\n",
            " #   Column       Non-Null Count  Dtype  \n",
            "---  ------       --------------  -----  \n",
            " 0   No           276 non-null    int64  \n",
            " 1   Gender       276 non-null    object \n",
            " 2   Age          276 non-null    int64  \n",
            " 3   Height       276 non-null    int64  \n",
            " 4   Weight       276 non-null    int64  \n",
            " 5   Temperature  276 non-null    float64\n",
            " 6   Systole      276 non-null    float64\n",
            " 7   Diastole     276 non-null    float64\n",
            " 8   HeartRate    276 non-null    float64\n",
            " 9   Spo2         276 non-null    float64\n",
            " 10  BloodSugar   276 non-null    float64\n",
            " 11  Class        276 non-null    int64  \n",
            "dtypes: float64(6), int64(5), object(1)\n",
            "memory usage: 26.0+ KB\n"
          ]
        }
      ],
      "source": [
        "df_ganda.info()"
      ]
    },
    {
      "cell_type": "code",
      "execution_count": null,
      "metadata": {
        "colab": {
          "base_uri": "https://localhost:8080/",
          "height": 990
        },
        "id": "z8rukvE0IyVZ",
        "outputId": "8d46359b-314a-4f1f-aa88-931075468e20"
      },
      "outputs": [
        {
          "data": {
            "text/html": [
              "\n",
              "\n",
              "  <div id=\"df-0f0bf3b6-7753-4bd0-8e02-25033b54dd8e\">\n",
              "    <div class=\"colab-df-container\">\n",
              "      <div>\n",
              "<style scoped>\n",
              "    .dataframe tbody tr th:only-of-type {\n",
              "        vertical-align: middle;\n",
              "    }\n",
              "\n",
              "    .dataframe tbody tr th {\n",
              "        vertical-align: top;\n",
              "    }\n",
              "\n",
              "    .dataframe thead th {\n",
              "        text-align: right;\n",
              "    }\n",
              "</style>\n",
              "<table border=\"1\" class=\"dataframe\">\n",
              "  <thead>\n",
              "    <tr style=\"text-align: right;\">\n",
              "      <th></th>\n",
              "      <th>No</th>\n",
              "      <th>Gender</th>\n",
              "      <th>Age</th>\n",
              "      <th>Height</th>\n",
              "      <th>Weight</th>\n",
              "      <th>Temperature</th>\n",
              "      <th>Systole</th>\n",
              "      <th>Diastole</th>\n",
              "      <th>HeartRate</th>\n",
              "      <th>Spo2</th>\n",
              "      <th>BloodSugar</th>\n",
              "      <th>Class</th>\n",
              "    </tr>\n",
              "  </thead>\n",
              "  <tbody>\n",
              "    <tr>\n",
              "      <th>0</th>\n",
              "      <td>1</td>\n",
              "      <td>Female</td>\n",
              "      <td>55</td>\n",
              "      <td>175</td>\n",
              "      <td>66</td>\n",
              "      <td>39.0</td>\n",
              "      <td>86.0</td>\n",
              "      <td>61.0</td>\n",
              "      <td>100.0</td>\n",
              "      <td>92.0</td>\n",
              "      <td>98.0</td>\n",
              "      <td>0</td>\n",
              "    </tr>\n",
              "    <tr>\n",
              "      <th>1</th>\n",
              "      <td>2</td>\n",
              "      <td>Female</td>\n",
              "      <td>55</td>\n",
              "      <td>175</td>\n",
              "      <td>76</td>\n",
              "      <td>38.0</td>\n",
              "      <td>86.0</td>\n",
              "      <td>62.0</td>\n",
              "      <td>104.0</td>\n",
              "      <td>87.0</td>\n",
              "      <td>98.0</td>\n",
              "      <td>0</td>\n",
              "    </tr>\n",
              "    <tr>\n",
              "      <th>2</th>\n",
              "      <td>3</td>\n",
              "      <td>Female</td>\n",
              "      <td>55</td>\n",
              "      <td>175</td>\n",
              "      <td>63</td>\n",
              "      <td>38.0</td>\n",
              "      <td>86.0</td>\n",
              "      <td>64.0</td>\n",
              "      <td>102.0</td>\n",
              "      <td>91.0</td>\n",
              "      <td>97.0</td>\n",
              "      <td>0</td>\n",
              "    </tr>\n",
              "    <tr>\n",
              "      <th>3</th>\n",
              "      <td>4</td>\n",
              "      <td>Female</td>\n",
              "      <td>55</td>\n",
              "      <td>175</td>\n",
              "      <td>59</td>\n",
              "      <td>37.0</td>\n",
              "      <td>88.0</td>\n",
              "      <td>62.0</td>\n",
              "      <td>100.0</td>\n",
              "      <td>89.0</td>\n",
              "      <td>98.0</td>\n",
              "      <td>0</td>\n",
              "    </tr>\n",
              "    <tr>\n",
              "      <th>4</th>\n",
              "      <td>5</td>\n",
              "      <td>Female</td>\n",
              "      <td>55</td>\n",
              "      <td>175</td>\n",
              "      <td>65</td>\n",
              "      <td>38.0</td>\n",
              "      <td>87.0</td>\n",
              "      <td>62.0</td>\n",
              "      <td>102.0</td>\n",
              "      <td>92.0</td>\n",
              "      <td>98.0</td>\n",
              "      <td>0</td>\n",
              "    </tr>\n",
              "    <tr>\n",
              "      <th>5</th>\n",
              "      <td>6</td>\n",
              "      <td>Female</td>\n",
              "      <td>55</td>\n",
              "      <td>175</td>\n",
              "      <td>76</td>\n",
              "      <td>38.0</td>\n",
              "      <td>86.6</td>\n",
              "      <td>62.2</td>\n",
              "      <td>101.6</td>\n",
              "      <td>90.2</td>\n",
              "      <td>97.8</td>\n",
              "      <td>0</td>\n",
              "    </tr>\n",
              "    <tr>\n",
              "      <th>6</th>\n",
              "      <td>7</td>\n",
              "      <td>Male</td>\n",
              "      <td>60</td>\n",
              "      <td>175</td>\n",
              "      <td>61</td>\n",
              "      <td>36.0</td>\n",
              "      <td>140.0</td>\n",
              "      <td>94.0</td>\n",
              "      <td>79.0</td>\n",
              "      <td>100.0</td>\n",
              "      <td>98.0</td>\n",
              "      <td>0</td>\n",
              "    </tr>\n",
              "    <tr>\n",
              "      <th>7</th>\n",
              "      <td>8</td>\n",
              "      <td>Male</td>\n",
              "      <td>60</td>\n",
              "      <td>175</td>\n",
              "      <td>60</td>\n",
              "      <td>36.0</td>\n",
              "      <td>138.0</td>\n",
              "      <td>95.0</td>\n",
              "      <td>83.0</td>\n",
              "      <td>77.0</td>\n",
              "      <td>98.0</td>\n",
              "      <td>0</td>\n",
              "    </tr>\n",
              "    <tr>\n",
              "      <th>8</th>\n",
              "      <td>9</td>\n",
              "      <td>Male</td>\n",
              "      <td>60</td>\n",
              "      <td>175</td>\n",
              "      <td>75</td>\n",
              "      <td>37.0</td>\n",
              "      <td>142.0</td>\n",
              "      <td>94.0</td>\n",
              "      <td>87.0</td>\n",
              "      <td>98.0</td>\n",
              "      <td>98.0</td>\n",
              "      <td>0</td>\n",
              "    </tr>\n",
              "    <tr>\n",
              "      <th>9</th>\n",
              "      <td>10</td>\n",
              "      <td>Male</td>\n",
              "      <td>60</td>\n",
              "      <td>175</td>\n",
              "      <td>76</td>\n",
              "      <td>35.0</td>\n",
              "      <td>139.0</td>\n",
              "      <td>91.0</td>\n",
              "      <td>82.0</td>\n",
              "      <td>92.0</td>\n",
              "      <td>97.0</td>\n",
              "      <td>0</td>\n",
              "    </tr>\n",
              "    <tr>\n",
              "      <th>10</th>\n",
              "      <td>11</td>\n",
              "      <td>Male</td>\n",
              "      <td>60</td>\n",
              "      <td>175</td>\n",
              "      <td>61</td>\n",
              "      <td>36.0</td>\n",
              "      <td>142.0</td>\n",
              "      <td>96.0</td>\n",
              "      <td>82.0</td>\n",
              "      <td>94.0</td>\n",
              "      <td>98.0</td>\n",
              "      <td>0</td>\n",
              "    </tr>\n",
              "    <tr>\n",
              "      <th>11</th>\n",
              "      <td>12</td>\n",
              "      <td>Male</td>\n",
              "      <td>60</td>\n",
              "      <td>175</td>\n",
              "      <td>63</td>\n",
              "      <td>36.0</td>\n",
              "      <td>140.2</td>\n",
              "      <td>94.0</td>\n",
              "      <td>82.6</td>\n",
              "      <td>92.2</td>\n",
              "      <td>97.8</td>\n",
              "      <td>0</td>\n",
              "    </tr>\n",
              "    <tr>\n",
              "      <th>12</th>\n",
              "      <td>13</td>\n",
              "      <td>Male</td>\n",
              "      <td>63</td>\n",
              "      <td>175</td>\n",
              "      <td>76</td>\n",
              "      <td>36.0</td>\n",
              "      <td>130.0</td>\n",
              "      <td>87.0</td>\n",
              "      <td>90.0</td>\n",
              "      <td>76.0</td>\n",
              "      <td>97.0</td>\n",
              "      <td>0</td>\n",
              "    </tr>\n",
              "    <tr>\n",
              "      <th>13</th>\n",
              "      <td>14</td>\n",
              "      <td>Male</td>\n",
              "      <td>63</td>\n",
              "      <td>175</td>\n",
              "      <td>63</td>\n",
              "      <td>37.0</td>\n",
              "      <td>129.0</td>\n",
              "      <td>82.0</td>\n",
              "      <td>92.0</td>\n",
              "      <td>80.0</td>\n",
              "      <td>98.0</td>\n",
              "      <td>0</td>\n",
              "    </tr>\n",
              "    <tr>\n",
              "      <th>14</th>\n",
              "      <td>15</td>\n",
              "      <td>Male</td>\n",
              "      <td>63</td>\n",
              "      <td>175</td>\n",
              "      <td>67</td>\n",
              "      <td>37.0</td>\n",
              "      <td>127.0</td>\n",
              "      <td>88.0</td>\n",
              "      <td>81.0</td>\n",
              "      <td>96.0</td>\n",
              "      <td>98.0</td>\n",
              "      <td>1</td>\n",
              "    </tr>\n",
              "    <tr>\n",
              "      <th>15</th>\n",
              "      <td>16</td>\n",
              "      <td>Male</td>\n",
              "      <td>63</td>\n",
              "      <td>175</td>\n",
              "      <td>61</td>\n",
              "      <td>36.0</td>\n",
              "      <td>131.0</td>\n",
              "      <td>89.0</td>\n",
              "      <td>81.0</td>\n",
              "      <td>80.0</td>\n",
              "      <td>98.0</td>\n",
              "      <td>0</td>\n",
              "    </tr>\n",
              "    <tr>\n",
              "      <th>16</th>\n",
              "      <td>17</td>\n",
              "      <td>Male</td>\n",
              "      <td>63</td>\n",
              "      <td>175</td>\n",
              "      <td>62</td>\n",
              "      <td>35.0</td>\n",
              "      <td>127.0</td>\n",
              "      <td>80.0</td>\n",
              "      <td>80.0</td>\n",
              "      <td>94.0</td>\n",
              "      <td>98.0</td>\n",
              "      <td>0</td>\n",
              "    </tr>\n",
              "    <tr>\n",
              "      <th>17</th>\n",
              "      <td>18</td>\n",
              "      <td>Male</td>\n",
              "      <td>63</td>\n",
              "      <td>175</td>\n",
              "      <td>61</td>\n",
              "      <td>36.2</td>\n",
              "      <td>128.8</td>\n",
              "      <td>85.2</td>\n",
              "      <td>84.8</td>\n",
              "      <td>85.2</td>\n",
              "      <td>97.8</td>\n",
              "      <td>0</td>\n",
              "    </tr>\n",
              "    <tr>\n",
              "      <th>18</th>\n",
              "      <td>19</td>\n",
              "      <td>Male</td>\n",
              "      <td>40</td>\n",
              "      <td>158</td>\n",
              "      <td>63</td>\n",
              "      <td>35.0</td>\n",
              "      <td>90.0</td>\n",
              "      <td>82.0</td>\n",
              "      <td>103.0</td>\n",
              "      <td>91.0</td>\n",
              "      <td>98.0</td>\n",
              "      <td>0</td>\n",
              "    </tr>\n",
              "    <tr>\n",
              "      <th>19</th>\n",
              "      <td>20</td>\n",
              "      <td>Male</td>\n",
              "      <td>40</td>\n",
              "      <td>158</td>\n",
              "      <td>56</td>\n",
              "      <td>36.0</td>\n",
              "      <td>98.0</td>\n",
              "      <td>81.0</td>\n",
              "      <td>90.0</td>\n",
              "      <td>97.0</td>\n",
              "      <td>98.0</td>\n",
              "      <td>0</td>\n",
              "    </tr>\n",
              "    <tr>\n",
              "      <th>20</th>\n",
              "      <td>21</td>\n",
              "      <td>Male</td>\n",
              "      <td>40</td>\n",
              "      <td>158</td>\n",
              "      <td>51</td>\n",
              "      <td>36.0</td>\n",
              "      <td>90.0</td>\n",
              "      <td>87.0</td>\n",
              "      <td>90.0</td>\n",
              "      <td>98.0</td>\n",
              "      <td>98.0</td>\n",
              "      <td>0</td>\n",
              "    </tr>\n",
              "    <tr>\n",
              "      <th>21</th>\n",
              "      <td>22</td>\n",
              "      <td>Male</td>\n",
              "      <td>40</td>\n",
              "      <td>158</td>\n",
              "      <td>52</td>\n",
              "      <td>36.0</td>\n",
              "      <td>89.0</td>\n",
              "      <td>81.0</td>\n",
              "      <td>100.0</td>\n",
              "      <td>98.0</td>\n",
              "      <td>98.0</td>\n",
              "      <td>0</td>\n",
              "    </tr>\n",
              "    <tr>\n",
              "      <th>22</th>\n",
              "      <td>23</td>\n",
              "      <td>Male</td>\n",
              "      <td>40</td>\n",
              "      <td>158</td>\n",
              "      <td>56</td>\n",
              "      <td>36.0</td>\n",
              "      <td>91.0</td>\n",
              "      <td>83.0</td>\n",
              "      <td>88.0</td>\n",
              "      <td>87.0</td>\n",
              "      <td>98.0</td>\n",
              "      <td>0</td>\n",
              "    </tr>\n",
              "    <tr>\n",
              "      <th>23</th>\n",
              "      <td>24</td>\n",
              "      <td>Male</td>\n",
              "      <td>40</td>\n",
              "      <td>158</td>\n",
              "      <td>48</td>\n",
              "      <td>35.8</td>\n",
              "      <td>91.6</td>\n",
              "      <td>82.8</td>\n",
              "      <td>94.2</td>\n",
              "      <td>94.2</td>\n",
              "      <td>98.0</td>\n",
              "      <td>0</td>\n",
              "    </tr>\n",
              "    <tr>\n",
              "      <th>24</th>\n",
              "      <td>25</td>\n",
              "      <td>Male</td>\n",
              "      <td>50</td>\n",
              "      <td>158</td>\n",
              "      <td>58</td>\n",
              "      <td>38.0</td>\n",
              "      <td>80.0</td>\n",
              "      <td>72.0</td>\n",
              "      <td>79.0</td>\n",
              "      <td>92.0</td>\n",
              "      <td>97.0</td>\n",
              "      <td>0</td>\n",
              "    </tr>\n",
              "    <tr>\n",
              "      <th>25</th>\n",
              "      <td>26</td>\n",
              "      <td>Male</td>\n",
              "      <td>50</td>\n",
              "      <td>158</td>\n",
              "      <td>58</td>\n",
              "      <td>37.0</td>\n",
              "      <td>79.0</td>\n",
              "      <td>71.0</td>\n",
              "      <td>81.0</td>\n",
              "      <td>90.0</td>\n",
              "      <td>98.0</td>\n",
              "      <td>0</td>\n",
              "    </tr>\n",
              "    <tr>\n",
              "      <th>26</th>\n",
              "      <td>27</td>\n",
              "      <td>Male</td>\n",
              "      <td>50</td>\n",
              "      <td>158</td>\n",
              "      <td>57</td>\n",
              "      <td>37.0</td>\n",
              "      <td>79.0</td>\n",
              "      <td>74.0</td>\n",
              "      <td>81.0</td>\n",
              "      <td>97.0</td>\n",
              "      <td>98.0</td>\n",
              "      <td>0</td>\n",
              "    </tr>\n",
              "    <tr>\n",
              "      <th>27</th>\n",
              "      <td>28</td>\n",
              "      <td>Male</td>\n",
              "      <td>50</td>\n",
              "      <td>158</td>\n",
              "      <td>61</td>\n",
              "      <td>38.0</td>\n",
              "      <td>80.0</td>\n",
              "      <td>71.0</td>\n",
              "      <td>80.0</td>\n",
              "      <td>91.0</td>\n",
              "      <td>98.0</td>\n",
              "      <td>0</td>\n",
              "    </tr>\n",
              "    <tr>\n",
              "      <th>28</th>\n",
              "      <td>29</td>\n",
              "      <td>Male</td>\n",
              "      <td>50</td>\n",
              "      <td>158</td>\n",
              "      <td>56</td>\n",
              "      <td>37.0</td>\n",
              "      <td>76.0</td>\n",
              "      <td>69.0</td>\n",
              "      <td>84.0</td>\n",
              "      <td>98.0</td>\n",
              "      <td>98.0</td>\n",
              "      <td>0</td>\n",
              "    </tr>\n",
              "    <tr>\n",
              "      <th>29</th>\n",
              "      <td>30</td>\n",
              "      <td>Male</td>\n",
              "      <td>50</td>\n",
              "      <td>158</td>\n",
              "      <td>60</td>\n",
              "      <td>37.4</td>\n",
              "      <td>78.8</td>\n",
              "      <td>71.4</td>\n",
              "      <td>81.0</td>\n",
              "      <td>93.6</td>\n",
              "      <td>97.8</td>\n",
              "      <td>0</td>\n",
              "    </tr>\n",
              "  </tbody>\n",
              "</table>\n",
              "</div>\n",
              "      <button class=\"colab-df-convert\" onclick=\"convertToInteractive('df-0f0bf3b6-7753-4bd0-8e02-25033b54dd8e')\"\n",
              "              title=\"Convert this dataframe to an interactive table.\"\n",
              "              style=\"display:none;\">\n",
              "\n",
              "  <svg xmlns=\"http://www.w3.org/2000/svg\" height=\"24px\"viewBox=\"0 0 24 24\"\n",
              "       width=\"24px\">\n",
              "    <path d=\"M0 0h24v24H0V0z\" fill=\"none\"/>\n",
              "    <path d=\"M18.56 5.44l.94 2.06.94-2.06 2.06-.94-2.06-.94-.94-2.06-.94 2.06-2.06.94zm-11 1L8.5 8.5l.94-2.06 2.06-.94-2.06-.94L8.5 2.5l-.94 2.06-2.06.94zm10 10l.94 2.06.94-2.06 2.06-.94-2.06-.94-.94-2.06-.94 2.06-2.06.94z\"/><path d=\"M17.41 7.96l-1.37-1.37c-.4-.4-.92-.59-1.43-.59-.52 0-1.04.2-1.43.59L10.3 9.45l-7.72 7.72c-.78.78-.78 2.05 0 2.83L4 21.41c.39.39.9.59 1.41.59.51 0 1.02-.2 1.41-.59l7.78-7.78 2.81-2.81c.8-.78.8-2.07 0-2.86zM5.41 20L4 18.59l7.72-7.72 1.47 1.35L5.41 20z\"/>\n",
              "  </svg>\n",
              "      </button>\n",
              "\n",
              "\n",
              "\n",
              "    <div id=\"df-46279099-c6a8-42e0-b835-88db42efc782\">\n",
              "      <button class=\"colab-df-quickchart\" onclick=\"quickchart('df-46279099-c6a8-42e0-b835-88db42efc782')\"\n",
              "              title=\"Suggest charts.\"\n",
              "              style=\"display:none;\">\n",
              "\n",
              "<svg xmlns=\"http://www.w3.org/2000/svg\" height=\"24px\"viewBox=\"0 0 24 24\"\n",
              "     width=\"24px\">\n",
              "    <g>\n",
              "        <path d=\"M19 3H5c-1.1 0-2 .9-2 2v14c0 1.1.9 2 2 2h14c1.1 0 2-.9 2-2V5c0-1.1-.9-2-2-2zM9 17H7v-7h2v7zm4 0h-2V7h2v10zm4 0h-2v-4h2v4z\"/>\n",
              "    </g>\n",
              "</svg>\n",
              "      </button>\n",
              "    </div>\n",
              "\n",
              "<style>\n",
              "  .colab-df-quickchart {\n",
              "    background-color: #E8F0FE;\n",
              "    border: none;\n",
              "    border-radius: 50%;\n",
              "    cursor: pointer;\n",
              "    display: none;\n",
              "    fill: #1967D2;\n",
              "    height: 32px;\n",
              "    padding: 0 0 0 0;\n",
              "    width: 32px;\n",
              "  }\n",
              "\n",
              "  .colab-df-quickchart:hover {\n",
              "    background-color: #E2EBFA;\n",
              "    box-shadow: 0px 1px 2px rgba(60, 64, 67, 0.3), 0px 1px 3px 1px rgba(60, 64, 67, 0.15);\n",
              "    fill: #174EA6;\n",
              "  }\n",
              "\n",
              "  [theme=dark] .colab-df-quickchart {\n",
              "    background-color: #3B4455;\n",
              "    fill: #D2E3FC;\n",
              "  }\n",
              "\n",
              "  [theme=dark] .colab-df-quickchart:hover {\n",
              "    background-color: #434B5C;\n",
              "    box-shadow: 0px 1px 3px 1px rgba(0, 0, 0, 0.15);\n",
              "    filter: drop-shadow(0px 1px 2px rgba(0, 0, 0, 0.3));\n",
              "    fill: #FFFFFF;\n",
              "  }\n",
              "</style>\n",
              "\n",
              "    <script>\n",
              "      async function quickchart(key) {\n",
              "        const containerElement = document.querySelector('#' + key);\n",
              "        const charts = await google.colab.kernel.invokeFunction(\n",
              "            'suggestCharts', [key], {});\n",
              "      }\n",
              "    </script>\n",
              "\n",
              "      <script>\n",
              "\n",
              "function displayQuickchartButton(domScope) {\n",
              "  let quickchartButtonEl =\n",
              "    domScope.querySelector('#df-46279099-c6a8-42e0-b835-88db42efc782 button.colab-df-quickchart');\n",
              "  quickchartButtonEl.style.display =\n",
              "    google.colab.kernel.accessAllowed ? 'block' : 'none';\n",
              "}\n",
              "\n",
              "        displayQuickchartButton(document);\n",
              "      </script>\n",
              "      <style>\n",
              "    .colab-df-container {\n",
              "      display:flex;\n",
              "      flex-wrap:wrap;\n",
              "      gap: 12px;\n",
              "    }\n",
              "\n",
              "    .colab-df-convert {\n",
              "      background-color: #E8F0FE;\n",
              "      border: none;\n",
              "      border-radius: 50%;\n",
              "      cursor: pointer;\n",
              "      display: none;\n",
              "      fill: #1967D2;\n",
              "      height: 32px;\n",
              "      padding: 0 0 0 0;\n",
              "      width: 32px;\n",
              "    }\n",
              "\n",
              "    .colab-df-convert:hover {\n",
              "      background-color: #E2EBFA;\n",
              "      box-shadow: 0px 1px 2px rgba(60, 64, 67, 0.3), 0px 1px 3px 1px rgba(60, 64, 67, 0.15);\n",
              "      fill: #174EA6;\n",
              "    }\n",
              "\n",
              "    [theme=dark] .colab-df-convert {\n",
              "      background-color: #3B4455;\n",
              "      fill: #D2E3FC;\n",
              "    }\n",
              "\n",
              "    [theme=dark] .colab-df-convert:hover {\n",
              "      background-color: #434B5C;\n",
              "      box-shadow: 0px 1px 3px 1px rgba(0, 0, 0, 0.15);\n",
              "      filter: drop-shadow(0px 1px 2px rgba(0, 0, 0, 0.3));\n",
              "      fill: #FFFFFF;\n",
              "    }\n",
              "  </style>\n",
              "\n",
              "      <script>\n",
              "        const buttonEl =\n",
              "          document.querySelector('#df-0f0bf3b6-7753-4bd0-8e02-25033b54dd8e button.colab-df-convert');\n",
              "        buttonEl.style.display =\n",
              "          google.colab.kernel.accessAllowed ? 'block' : 'none';\n",
              "\n",
              "        async function convertToInteractive(key) {\n",
              "          const element = document.querySelector('#df-0f0bf3b6-7753-4bd0-8e02-25033b54dd8e');\n",
              "          const dataTable =\n",
              "            await google.colab.kernel.invokeFunction('convertToInteractive',\n",
              "                                                     [key], {});\n",
              "          if (!dataTable) return;\n",
              "\n",
              "          const docLinkHtml = 'Like what you see? Visit the ' +\n",
              "            '<a target=\"_blank\" href=https://colab.research.google.com/notebooks/data_table.ipynb>data table notebook</a>'\n",
              "            + ' to learn more about interactive tables.';\n",
              "          element.innerHTML = '';\n",
              "          dataTable['output_type'] = 'display_data';\n",
              "          await google.colab.output.renderOutput(dataTable, element);\n",
              "          const docLink = document.createElement('div');\n",
              "          docLink.innerHTML = docLinkHtml;\n",
              "          element.appendChild(docLink);\n",
              "        }\n",
              "      </script>\n",
              "    </div>\n",
              "  </div>\n"
            ],
            "text/plain": [
              "    No  Gender  Age  Height  Weight  Temperature  Systole  Diastole  \\\n",
              "0    1  Female   55     175      66         39.0     86.0      61.0   \n",
              "1    2  Female   55     175      76         38.0     86.0      62.0   \n",
              "2    3  Female   55     175      63         38.0     86.0      64.0   \n",
              "3    4  Female   55     175      59         37.0     88.0      62.0   \n",
              "4    5  Female   55     175      65         38.0     87.0      62.0   \n",
              "5    6  Female   55     175      76         38.0     86.6      62.2   \n",
              "6    7    Male   60     175      61         36.0    140.0      94.0   \n",
              "7    8    Male   60     175      60         36.0    138.0      95.0   \n",
              "8    9    Male   60     175      75         37.0    142.0      94.0   \n",
              "9   10    Male   60     175      76         35.0    139.0      91.0   \n",
              "10  11    Male   60     175      61         36.0    142.0      96.0   \n",
              "11  12    Male   60     175      63         36.0    140.2      94.0   \n",
              "12  13    Male   63     175      76         36.0    130.0      87.0   \n",
              "13  14    Male   63     175      63         37.0    129.0      82.0   \n",
              "14  15    Male   63     175      67         37.0    127.0      88.0   \n",
              "15  16    Male   63     175      61         36.0    131.0      89.0   \n",
              "16  17    Male   63     175      62         35.0    127.0      80.0   \n",
              "17  18    Male   63     175      61         36.2    128.8      85.2   \n",
              "18  19    Male   40     158      63         35.0     90.0      82.0   \n",
              "19  20    Male   40     158      56         36.0     98.0      81.0   \n",
              "20  21    Male   40     158      51         36.0     90.0      87.0   \n",
              "21  22    Male   40     158      52         36.0     89.0      81.0   \n",
              "22  23    Male   40     158      56         36.0     91.0      83.0   \n",
              "23  24    Male   40     158      48         35.8     91.6      82.8   \n",
              "24  25    Male   50     158      58         38.0     80.0      72.0   \n",
              "25  26    Male   50     158      58         37.0     79.0      71.0   \n",
              "26  27    Male   50     158      57         37.0     79.0      74.0   \n",
              "27  28    Male   50     158      61         38.0     80.0      71.0   \n",
              "28  29    Male   50     158      56         37.0     76.0      69.0   \n",
              "29  30    Male   50     158      60         37.4     78.8      71.4   \n",
              "\n",
              "    HeartRate   Spo2  BloodSugar  Class  \n",
              "0       100.0   92.0        98.0      0  \n",
              "1       104.0   87.0        98.0      0  \n",
              "2       102.0   91.0        97.0      0  \n",
              "3       100.0   89.0        98.0      0  \n",
              "4       102.0   92.0        98.0      0  \n",
              "5       101.6   90.2        97.8      0  \n",
              "6        79.0  100.0        98.0      0  \n",
              "7        83.0   77.0        98.0      0  \n",
              "8        87.0   98.0        98.0      0  \n",
              "9        82.0   92.0        97.0      0  \n",
              "10       82.0   94.0        98.0      0  \n",
              "11       82.6   92.2        97.8      0  \n",
              "12       90.0   76.0        97.0      0  \n",
              "13       92.0   80.0        98.0      0  \n",
              "14       81.0   96.0        98.0      1  \n",
              "15       81.0   80.0        98.0      0  \n",
              "16       80.0   94.0        98.0      0  \n",
              "17       84.8   85.2        97.8      0  \n",
              "18      103.0   91.0        98.0      0  \n",
              "19       90.0   97.0        98.0      0  \n",
              "20       90.0   98.0        98.0      0  \n",
              "21      100.0   98.0        98.0      0  \n",
              "22       88.0   87.0        98.0      0  \n",
              "23       94.2   94.2        98.0      0  \n",
              "24       79.0   92.0        97.0      0  \n",
              "25       81.0   90.0        98.0      0  \n",
              "26       81.0   97.0        98.0      0  \n",
              "27       80.0   91.0        98.0      0  \n",
              "28       84.0   98.0        98.0      0  \n",
              "29       81.0   93.6        97.8      0  "
            ]
          },
          "execution_count": 87,
          "metadata": {},
          "output_type": "execute_result"
        }
      ],
      "source": [
        "df_ganda.head(30)"
      ]
    },
    {
      "cell_type": "code",
      "execution_count": null,
      "metadata": {
        "id": "CGivZkP3I8xy"
      },
      "outputs": [],
      "source": [
        "df_ganda['Gender'].replace({'Male': 1, 'Female': 0}, inplace=True)\n",
        "# df_ganda['Class'] = df['Class'].astype(int)"
      ]
    },
    {
      "cell_type": "code",
      "execution_count": null,
      "metadata": {
        "colab": {
          "base_uri": "https://localhost:8080/"
        },
        "id": "b1jQMU8ybIkn",
        "outputId": "b1f80dae-0b05-421a-d03f-335e1f5c018e"
      },
      "outputs": [
        {
          "name": "stdout",
          "output_type": "stream",
          "text": [
            "JUmlah sehat: 84\n",
            "JUmlah sakit: 192\n"
          ]
        }
      ],
      "source": [
        "sehat = df_ganda.iloc[:,11].sum()\n",
        "sakit = (df_ganda.iloc[:,11] == 0).sum()\n",
        "print(\"JUmlah sehat:\", sehat)\n",
        "print(\"JUmlah sakit:\", sakit)"
      ]
    },
    {
      "cell_type": "code",
      "execution_count": null,
      "metadata": {
        "id": "phZrx4wYI9LK"
      },
      "outputs": [],
      "source": [
        "df_ganda.drop(df_ganda.columns[0],axis=1,inplace=True)"
      ]
    },
    {
      "cell_type": "code",
      "execution_count": null,
      "metadata": {
        "colab": {
          "base_uri": "https://localhost:8080/",
          "height": 424
        },
        "id": "DQf0vVdJMsnH",
        "outputId": "2e82f90b-2dbe-4981-bc14-b38aa095d573"
      },
      "outputs": [
        {
          "data": {
            "text/html": [
              "\n",
              "\n",
              "  <div id=\"df-e2a9a594-516f-4b35-96ed-03c6fde4a0a7\">\n",
              "    <div class=\"colab-df-container\">\n",
              "      <div>\n",
              "<style scoped>\n",
              "    .dataframe tbody tr th:only-of-type {\n",
              "        vertical-align: middle;\n",
              "    }\n",
              "\n",
              "    .dataframe tbody tr th {\n",
              "        vertical-align: top;\n",
              "    }\n",
              "\n",
              "    .dataframe thead th {\n",
              "        text-align: right;\n",
              "    }\n",
              "</style>\n",
              "<table border=\"1\" class=\"dataframe\">\n",
              "  <thead>\n",
              "    <tr style=\"text-align: right;\">\n",
              "      <th></th>\n",
              "      <th>Gender</th>\n",
              "      <th>Age</th>\n",
              "      <th>Height</th>\n",
              "      <th>Weight</th>\n",
              "      <th>Temperature</th>\n",
              "      <th>Systole</th>\n",
              "      <th>Diastole</th>\n",
              "      <th>HeartRate</th>\n",
              "      <th>Spo2</th>\n",
              "      <th>BloodSugar</th>\n",
              "      <th>Class</th>\n",
              "    </tr>\n",
              "  </thead>\n",
              "  <tbody>\n",
              "    <tr>\n",
              "      <th>0</th>\n",
              "      <td>0</td>\n",
              "      <td>55</td>\n",
              "      <td>175</td>\n",
              "      <td>66</td>\n",
              "      <td>39.0</td>\n",
              "      <td>86.0</td>\n",
              "      <td>61.0</td>\n",
              "      <td>100.0</td>\n",
              "      <td>92.0</td>\n",
              "      <td>98.0</td>\n",
              "      <td>0</td>\n",
              "    </tr>\n",
              "    <tr>\n",
              "      <th>1</th>\n",
              "      <td>0</td>\n",
              "      <td>55</td>\n",
              "      <td>175</td>\n",
              "      <td>76</td>\n",
              "      <td>38.0</td>\n",
              "      <td>86.0</td>\n",
              "      <td>62.0</td>\n",
              "      <td>104.0</td>\n",
              "      <td>87.0</td>\n",
              "      <td>98.0</td>\n",
              "      <td>0</td>\n",
              "    </tr>\n",
              "    <tr>\n",
              "      <th>2</th>\n",
              "      <td>0</td>\n",
              "      <td>55</td>\n",
              "      <td>175</td>\n",
              "      <td>63</td>\n",
              "      <td>38.0</td>\n",
              "      <td>86.0</td>\n",
              "      <td>64.0</td>\n",
              "      <td>102.0</td>\n",
              "      <td>91.0</td>\n",
              "      <td>97.0</td>\n",
              "      <td>0</td>\n",
              "    </tr>\n",
              "    <tr>\n",
              "      <th>3</th>\n",
              "      <td>0</td>\n",
              "      <td>55</td>\n",
              "      <td>175</td>\n",
              "      <td>59</td>\n",
              "      <td>37.0</td>\n",
              "      <td>88.0</td>\n",
              "      <td>62.0</td>\n",
              "      <td>100.0</td>\n",
              "      <td>89.0</td>\n",
              "      <td>98.0</td>\n",
              "      <td>0</td>\n",
              "    </tr>\n",
              "    <tr>\n",
              "      <th>4</th>\n",
              "      <td>0</td>\n",
              "      <td>55</td>\n",
              "      <td>175</td>\n",
              "      <td>65</td>\n",
              "      <td>38.0</td>\n",
              "      <td>87.0</td>\n",
              "      <td>62.0</td>\n",
              "      <td>102.0</td>\n",
              "      <td>92.0</td>\n",
              "      <td>98.0</td>\n",
              "      <td>0</td>\n",
              "    </tr>\n",
              "    <tr>\n",
              "      <th>...</th>\n",
              "      <td>...</td>\n",
              "      <td>...</td>\n",
              "      <td>...</td>\n",
              "      <td>...</td>\n",
              "      <td>...</td>\n",
              "      <td>...</td>\n",
              "      <td>...</td>\n",
              "      <td>...</td>\n",
              "      <td>...</td>\n",
              "      <td>...</td>\n",
              "      <td>...</td>\n",
              "    </tr>\n",
              "    <tr>\n",
              "      <th>195</th>\n",
              "      <td>1</td>\n",
              "      <td>22</td>\n",
              "      <td>172</td>\n",
              "      <td>56</td>\n",
              "      <td>37.0</td>\n",
              "      <td>112.0</td>\n",
              "      <td>82.0</td>\n",
              "      <td>72.0</td>\n",
              "      <td>93.0</td>\n",
              "      <td>100.0</td>\n",
              "      <td>0</td>\n",
              "    </tr>\n",
              "    <tr>\n",
              "      <th>196</th>\n",
              "      <td>1</td>\n",
              "      <td>24</td>\n",
              "      <td>172</td>\n",
              "      <td>72</td>\n",
              "      <td>36.0</td>\n",
              "      <td>112.0</td>\n",
              "      <td>87.0</td>\n",
              "      <td>91.0</td>\n",
              "      <td>95.0</td>\n",
              "      <td>139.0</td>\n",
              "      <td>1</td>\n",
              "    </tr>\n",
              "    <tr>\n",
              "      <th>197</th>\n",
              "      <td>1</td>\n",
              "      <td>22</td>\n",
              "      <td>172</td>\n",
              "      <td>56</td>\n",
              "      <td>36.0</td>\n",
              "      <td>112.0</td>\n",
              "      <td>86.0</td>\n",
              "      <td>78.0</td>\n",
              "      <td>93.0</td>\n",
              "      <td>65.0</td>\n",
              "      <td>0</td>\n",
              "    </tr>\n",
              "    <tr>\n",
              "      <th>198</th>\n",
              "      <td>1</td>\n",
              "      <td>39</td>\n",
              "      <td>158</td>\n",
              "      <td>56</td>\n",
              "      <td>37.0</td>\n",
              "      <td>111.0</td>\n",
              "      <td>80.0</td>\n",
              "      <td>74.0</td>\n",
              "      <td>97.0</td>\n",
              "      <td>126.0</td>\n",
              "      <td>1</td>\n",
              "    </tr>\n",
              "    <tr>\n",
              "      <th>199</th>\n",
              "      <td>0</td>\n",
              "      <td>28</td>\n",
              "      <td>158</td>\n",
              "      <td>59</td>\n",
              "      <td>36.0</td>\n",
              "      <td>111.0</td>\n",
              "      <td>81.0</td>\n",
              "      <td>85.0</td>\n",
              "      <td>100.0</td>\n",
              "      <td>100.0</td>\n",
              "      <td>1</td>\n",
              "    </tr>\n",
              "  </tbody>\n",
              "</table>\n",
              "<p>200 rows × 11 columns</p>\n",
              "</div>\n",
              "      <button class=\"colab-df-convert\" onclick=\"convertToInteractive('df-e2a9a594-516f-4b35-96ed-03c6fde4a0a7')\"\n",
              "              title=\"Convert this dataframe to an interactive table.\"\n",
              "              style=\"display:none;\">\n",
              "\n",
              "  <svg xmlns=\"http://www.w3.org/2000/svg\" height=\"24px\"viewBox=\"0 0 24 24\"\n",
              "       width=\"24px\">\n",
              "    <path d=\"M0 0h24v24H0V0z\" fill=\"none\"/>\n",
              "    <path d=\"M18.56 5.44l.94 2.06.94-2.06 2.06-.94-2.06-.94-.94-2.06-.94 2.06-2.06.94zm-11 1L8.5 8.5l.94-2.06 2.06-.94-2.06-.94L8.5 2.5l-.94 2.06-2.06.94zm10 10l.94 2.06.94-2.06 2.06-.94-2.06-.94-.94-2.06-.94 2.06-2.06.94z\"/><path d=\"M17.41 7.96l-1.37-1.37c-.4-.4-.92-.59-1.43-.59-.52 0-1.04.2-1.43.59L10.3 9.45l-7.72 7.72c-.78.78-.78 2.05 0 2.83L4 21.41c.39.39.9.59 1.41.59.51 0 1.02-.2 1.41-.59l7.78-7.78 2.81-2.81c.8-.78.8-2.07 0-2.86zM5.41 20L4 18.59l7.72-7.72 1.47 1.35L5.41 20z\"/>\n",
              "  </svg>\n",
              "      </button>\n",
              "\n",
              "\n",
              "\n",
              "    <div id=\"df-2cf3477c-ab6d-40f8-b768-feea81451fa0\">\n",
              "      <button class=\"colab-df-quickchart\" onclick=\"quickchart('df-2cf3477c-ab6d-40f8-b768-feea81451fa0')\"\n",
              "              title=\"Suggest charts.\"\n",
              "              style=\"display:none;\">\n",
              "\n",
              "<svg xmlns=\"http://www.w3.org/2000/svg\" height=\"24px\"viewBox=\"0 0 24 24\"\n",
              "     width=\"24px\">\n",
              "    <g>\n",
              "        <path d=\"M19 3H5c-1.1 0-2 .9-2 2v14c0 1.1.9 2 2 2h14c1.1 0 2-.9 2-2V5c0-1.1-.9-2-2-2zM9 17H7v-7h2v7zm4 0h-2V7h2v10zm4 0h-2v-4h2v4z\"/>\n",
              "    </g>\n",
              "</svg>\n",
              "      </button>\n",
              "    </div>\n",
              "\n",
              "<style>\n",
              "  .colab-df-quickchart {\n",
              "    background-color: #E8F0FE;\n",
              "    border: none;\n",
              "    border-radius: 50%;\n",
              "    cursor: pointer;\n",
              "    display: none;\n",
              "    fill: #1967D2;\n",
              "    height: 32px;\n",
              "    padding: 0 0 0 0;\n",
              "    width: 32px;\n",
              "  }\n",
              "\n",
              "  .colab-df-quickchart:hover {\n",
              "    background-color: #E2EBFA;\n",
              "    box-shadow: 0px 1px 2px rgba(60, 64, 67, 0.3), 0px 1px 3px 1px rgba(60, 64, 67, 0.15);\n",
              "    fill: #174EA6;\n",
              "  }\n",
              "\n",
              "  [theme=dark] .colab-df-quickchart {\n",
              "    background-color: #3B4455;\n",
              "    fill: #D2E3FC;\n",
              "  }\n",
              "\n",
              "  [theme=dark] .colab-df-quickchart:hover {\n",
              "    background-color: #434B5C;\n",
              "    box-shadow: 0px 1px 3px 1px rgba(0, 0, 0, 0.15);\n",
              "    filter: drop-shadow(0px 1px 2px rgba(0, 0, 0, 0.3));\n",
              "    fill: #FFFFFF;\n",
              "  }\n",
              "</style>\n",
              "\n",
              "    <script>\n",
              "      async function quickchart(key) {\n",
              "        const containerElement = document.querySelector('#' + key);\n",
              "        const charts = await google.colab.kernel.invokeFunction(\n",
              "            'suggestCharts', [key], {});\n",
              "      }\n",
              "    </script>\n",
              "\n",
              "      <script>\n",
              "\n",
              "function displayQuickchartButton(domScope) {\n",
              "  let quickchartButtonEl =\n",
              "    domScope.querySelector('#df-2cf3477c-ab6d-40f8-b768-feea81451fa0 button.colab-df-quickchart');\n",
              "  quickchartButtonEl.style.display =\n",
              "    google.colab.kernel.accessAllowed ? 'block' : 'none';\n",
              "}\n",
              "\n",
              "        displayQuickchartButton(document);\n",
              "      </script>\n",
              "      <style>\n",
              "    .colab-df-container {\n",
              "      display:flex;\n",
              "      flex-wrap:wrap;\n",
              "      gap: 12px;\n",
              "    }\n",
              "\n",
              "    .colab-df-convert {\n",
              "      background-color: #E8F0FE;\n",
              "      border: none;\n",
              "      border-radius: 50%;\n",
              "      cursor: pointer;\n",
              "      display: none;\n",
              "      fill: #1967D2;\n",
              "      height: 32px;\n",
              "      padding: 0 0 0 0;\n",
              "      width: 32px;\n",
              "    }\n",
              "\n",
              "    .colab-df-convert:hover {\n",
              "      background-color: #E2EBFA;\n",
              "      box-shadow: 0px 1px 2px rgba(60, 64, 67, 0.3), 0px 1px 3px 1px rgba(60, 64, 67, 0.15);\n",
              "      fill: #174EA6;\n",
              "    }\n",
              "\n",
              "    [theme=dark] .colab-df-convert {\n",
              "      background-color: #3B4455;\n",
              "      fill: #D2E3FC;\n",
              "    }\n",
              "\n",
              "    [theme=dark] .colab-df-convert:hover {\n",
              "      background-color: #434B5C;\n",
              "      box-shadow: 0px 1px 3px 1px rgba(0, 0, 0, 0.15);\n",
              "      filter: drop-shadow(0px 1px 2px rgba(0, 0, 0, 0.3));\n",
              "      fill: #FFFFFF;\n",
              "    }\n",
              "  </style>\n",
              "\n",
              "      <script>\n",
              "        const buttonEl =\n",
              "          document.querySelector('#df-e2a9a594-516f-4b35-96ed-03c6fde4a0a7 button.colab-df-convert');\n",
              "        buttonEl.style.display =\n",
              "          google.colab.kernel.accessAllowed ? 'block' : 'none';\n",
              "\n",
              "        async function convertToInteractive(key) {\n",
              "          const element = document.querySelector('#df-e2a9a594-516f-4b35-96ed-03c6fde4a0a7');\n",
              "          const dataTable =\n",
              "            await google.colab.kernel.invokeFunction('convertToInteractive',\n",
              "                                                     [key], {});\n",
              "          if (!dataTable) return;\n",
              "\n",
              "          const docLinkHtml = 'Like what you see? Visit the ' +\n",
              "            '<a target=\"_blank\" href=https://colab.research.google.com/notebooks/data_table.ipynb>data table notebook</a>'\n",
              "            + ' to learn more about interactive tables.';\n",
              "          element.innerHTML = '';\n",
              "          dataTable['output_type'] = 'display_data';\n",
              "          await google.colab.output.renderOutput(dataTable, element);\n",
              "          const docLink = document.createElement('div');\n",
              "          docLink.innerHTML = docLinkHtml;\n",
              "          element.appendChild(docLink);\n",
              "        }\n",
              "      </script>\n",
              "    </div>\n",
              "  </div>\n"
            ],
            "text/plain": [
              "     Gender  Age  Height  Weight  Temperature  Systole  Diastole  HeartRate  \\\n",
              "0         0   55     175      66         39.0     86.0      61.0      100.0   \n",
              "1         0   55     175      76         38.0     86.0      62.0      104.0   \n",
              "2         0   55     175      63         38.0     86.0      64.0      102.0   \n",
              "3         0   55     175      59         37.0     88.0      62.0      100.0   \n",
              "4         0   55     175      65         38.0     87.0      62.0      102.0   \n",
              "..      ...  ...     ...     ...          ...      ...       ...        ...   \n",
              "195       1   22     172      56         37.0    112.0      82.0       72.0   \n",
              "196       1   24     172      72         36.0    112.0      87.0       91.0   \n",
              "197       1   22     172      56         36.0    112.0      86.0       78.0   \n",
              "198       1   39     158      56         37.0    111.0      80.0       74.0   \n",
              "199       0   28     158      59         36.0    111.0      81.0       85.0   \n",
              "\n",
              "      Spo2  BloodSugar  Class  \n",
              "0     92.0        98.0      0  \n",
              "1     87.0        98.0      0  \n",
              "2     91.0        97.0      0  \n",
              "3     89.0        98.0      0  \n",
              "4     92.0        98.0      0  \n",
              "..     ...         ...    ...  \n",
              "195   93.0       100.0      0  \n",
              "196   95.0       139.0      1  \n",
              "197   93.0        65.0      0  \n",
              "198   97.0       126.0      1  \n",
              "199  100.0       100.0      1  \n",
              "\n",
              "[200 rows x 11 columns]"
            ]
          },
          "execution_count": 91,
          "metadata": {},
          "output_type": "execute_result"
        }
      ],
      "source": [
        "df_ganda.head(200)"
      ]
    },
    {
      "cell_type": "code",
      "execution_count": null,
      "metadata": {
        "colab": {
          "base_uri": "https://localhost:8080/"
        },
        "id": "GHy6LX7NtSxd",
        "outputId": "ca82f9eb-f4d9-4ad1-860f-8e5c274213a9"
      },
      "outputs": [
        {
          "name": "stdout",
          "output_type": "stream",
          "text": [
            "Akurasi pelatihan (kernel polinomial): 1.0\n",
            "Akurasi pengujian (kernel polinomial): 1.0\n"
          ]
        }
      ],
      "source": [
        "# Inisialisasi model SVM dengan kernel polinomial\n",
        "model_poly = svm.SVC(kernel='poly', C=1, probability=True)\n",
        "model_poly.fit(x_train, y_train)\n",
        "y_pred_poly_train = model_poly.predict(x_train)\n",
        "y_pred_poly_test = model_poly.predict(x_test)\n",
        "accuracy_poly_train = accuracy_score(y_train, y_pred_poly_train)\n",
        "accuracy_poly_test = accuracy_score(y_test, y_pred_poly_test)\n",
        "print(\"Akurasi pelatihan (kernel polinomial):\", accuracy_poly_train)\n",
        "print(\"Akurasi pengujian (kernel polinomial):\", accuracy_poly_test)"
      ]
    },
    {
      "cell_type": "code",
      "execution_count": null,
      "metadata": {
        "colab": {
          "base_uri": "https://localhost:8080/"
        },
        "id": "5sjd4kkTJgWW",
        "outputId": "1490eafd-b3f5-40f3-e3b7-1d24a8d5ad9a"
      },
      "outputs": [
        {
          "name": "stdout",
          "output_type": "stream",
          "text": [
            "Akurasi pengujian (kernel polinomial): 0.6304347826086957\n"
          ]
        }
      ],
      "source": [
        "x_ganda = df_ganda.drop(['Class'], axis=1)\n",
        "y_ganda = df_ganda.Class\n",
        "\n",
        "# Inisialisasi model SVM dengan kernel polinomial\n",
        "# model_poly = svm.SVC(kernel='poly', probability=True)\n",
        "# model_poly.fit(x_train, y_train)\n",
        "# y_pred_poly_train = model_poly.predict(x_train)\n",
        "y_pred_poly_ganda = model_poly.predict(x_ganda)\n",
        "# accuracy_poly_train = accuracy_score(y_train, y_pred_poly_train)\n",
        "accuracy_poly_ganda = accuracy_score(y_ganda, y_pred_poly_ganda)\n",
        "# print(\"Akurasi pelatihan (kernel polinomial):\", accuracy_poly_train)\n",
        "print(\"Akurasi pengujian (kernel polinomial):\", accuracy_poly_ganda)"
      ]
    },
    {
      "cell_type": "code",
      "execution_count": null,
      "metadata": {
        "id": "HoSeewdwTsHq"
      },
      "outputs": [],
      "source": [
        "# import pickle\n",
        "# from sklearn import svm\n",
        "# from google.colab import drive\n",
        "\n",
        "# # Mount Google Drive to access files\n",
        "# drive.mount('/content/drive')\n",
        "\n",
        "# # Assuming you have defined the 'model_poly' variable earlier in your code\n",
        "# # Save model to file\n",
        "# filename = '/content/drive/MyDrive/Colab Notebooks/poly_C.pkl'\n",
        "# with open(filename, 'wb') as file:\n",
        "#     pickle.dump(model_poly, file)\n"
      ]
    },
    {
      "cell_type": "code",
      "execution_count": null,
      "metadata": {
        "id": "1lCemBv9hz60"
      },
      "outputs": [],
      "source": [
        "# # Import libraries\n",
        "# import numpy as np\n",
        "# import pandas as pd\n",
        "# from sklearn.model_selection import train_test_split\n",
        "# from sklearn.svm import SVC\n",
        "# from sklearn.feature_selection import SelectFromModel\n",
        "\n",
        "# # Load dataset (gantilah 'nama_file.csv' dengan nama file dataset Anda)\n",
        "# dataset = pd.read_csv('nama_file.csv')\n",
        "\n",
        "# # Pisahkan fitur (X) dan label (y)\n",
        "# X = dataset.drop('label_kesehatan', axis=1)\n",
        "# y = dataset['label_kesehatan']\n",
        "\n",
        "# # Bagi data menjadi data latihan dan data uji\n",
        "# X_train, X_test, y_train, y_test = train_test_split(X, y, test_size=0.2, random_state=42)\n",
        "\n",
        "# # List kernel yang akan digunakan\n",
        "# kernels = ['linear', 'rbf', 'sigmoid', 'poly']\n",
        "\n",
        "# # Inisialisasi dictionary untuk menyimpan fitur yang paling berpengaruh dari setiap kernel\n",
        "# important_features = {}\n",
        "\n",
        "# # Loop untuk melatih model SVM dengan kernel berbeda dan mengidentifikasi fitur penting\n",
        "# for kernel in kernels:\n",
        "#     # Buat model SVM dengan kernel tertentu\n",
        "#     model = SVC(kernel=kernel)\n",
        "\n",
        "#     # Latih model pada data latihan\n",
        "#     model.fit(X_train, y_train)\n",
        "\n",
        "#     # Dapatkan fitur penting dari model menggunakan SelectFromModel\n",
        "#     sfm = SelectFromModel(model, prefit=True)\n",
        "#     selected_features = X.columns[sfm.get_support()]\n",
        "\n",
        "#     # Simpan hasil ke dalam dictionary\n",
        "#     important_features[kernel] = selected_features\n",
        "\n",
        "# # Cetak fitur penting dari setiap kernel\n",
        "# for kernel, features in important_features.items():\n",
        "#     print(f\"Kernel {kernel}: {features}\")\n"
      ]
    },
    {
      "cell_type": "code",
      "execution_count": null,
      "metadata": {
        "colab": {
          "base_uri": "https://localhost:8080/"
        },
        "id": "XJPgXqInllHT",
        "outputId": "dc45149f-832d-4013-9d62-2410a098da47"
      },
      "outputs": [
        {
          "name": "stdout",
          "output_type": "stream",
          "text": [
            "SVM Kernel RBF\n",
            "[[3496   20]\n",
            " [   5 3453]]\n",
            "              precision    recall  f1-score   support\n",
            "\n",
            "           0       1.00      0.99      1.00      3516\n",
            "           1       0.99      1.00      1.00      3458\n",
            "\n",
            "    accuracy                           1.00      6974\n",
            "   macro avg       1.00      1.00      1.00      6974\n",
            "weighted avg       1.00      1.00      1.00      6974\n",
            "\n",
            "SVM Kernel Polynomial\n",
            "[[3496   20]\n",
            " [   4 3454]]\n",
            "              precision    recall  f1-score   support\n",
            "\n",
            "           0       1.00      0.99      1.00      3516\n",
            "           1       0.99      1.00      1.00      3458\n",
            "\n",
            "    accuracy                           1.00      6974\n",
            "   macro avg       1.00      1.00      1.00      6974\n",
            "weighted avg       1.00      1.00      1.00      6974\n",
            "\n",
            "SVM Kernel Sigmoid\n",
            "[[1167 2349]\n",
            " [2238 1220]]\n",
            "              precision    recall  f1-score   support\n",
            "\n",
            "           0       0.34      0.33      0.34      3516\n",
            "           1       0.34      0.35      0.35      3458\n",
            "\n",
            "    accuracy                           0.34      6974\n",
            "   macro avg       0.34      0.34      0.34      6974\n",
            "weighted avg       0.34      0.34      0.34      6974\n",
            "\n"
          ]
        }
      ],
      "source": [
        "#confusion matrix testing\n",
        "from sklearn.metrics import classification_report, confusion_matrix\n",
        "# print(\"SVM Linear\")\n",
        "# print(confusion_matrix(y_test,y_pred_linear_test))\n",
        "# print(classification_report(y_test,y_pred_linear_test))\n",
        "\n",
        "print(\"SVM Kernel RBF\")\n",
        "print(confusion_matrix(y_test,y_pred_rbf_test))\n",
        "print(classification_report(y_test,y_pred_rbf_test))\n",
        "\n",
        "print(\"SVM Kernel Polynomial\")\n",
        "print(confusion_matrix(y_test,y_pred_poly_test))\n",
        "print(classification_report(y_test,y_pred_poly_test))\n",
        "\n",
        "print(\"SVM Kernel Sigmoid\")\n",
        "print(confusion_matrix(y_test,y_pred_sigmoid_test))\n",
        "print(classification_report(y_test,y_pred_sigmoid_test ))"
      ]
    },
    {
      "cell_type": "code",
      "execution_count": null,
      "metadata": {
        "colab": {
          "base_uri": "https://localhost:8080/"
        },
        "id": "Y6_N_pTcqKtm",
        "outputId": "26562224-37a8-4cfc-d92c-f97e6e2d30e9"
      },
      "outputs": [
        {
          "name": "stdout",
          "output_type": "stream",
          "text": [
            "SVM Kernel RBF\n",
            "[[13995    66]\n",
            " [   14 13820]]\n",
            "              precision    recall  f1-score   support\n",
            "\n",
            "           0       1.00      1.00      1.00     14061\n",
            "           1       1.00      1.00      1.00     13834\n",
            "\n",
            "    accuracy                           1.00     27895\n",
            "   macro avg       1.00      1.00      1.00     27895\n",
            "weighted avg       1.00      1.00      1.00     27895\n",
            "\n",
            "SVM Kernel Polynomial\n",
            "[[13993    68]\n",
            " [    9 13825]]\n",
            "              precision    recall  f1-score   support\n",
            "\n",
            "           0       1.00      1.00      1.00     14061\n",
            "           1       1.00      1.00      1.00     13834\n",
            "\n",
            "    accuracy                           1.00     27895\n",
            "   macro avg       1.00      1.00      1.00     27895\n",
            "weighted avg       1.00      1.00      1.00     27895\n",
            "\n",
            "SVM Kernel Sigmoid\n",
            "[[4609 9452]\n",
            " [9225 4609]]\n",
            "              precision    recall  f1-score   support\n",
            "\n",
            "           0       0.33      0.33      0.33     14061\n",
            "           1       0.33      0.33      0.33     13834\n",
            "\n",
            "    accuracy                           0.33     27895\n",
            "   macro avg       0.33      0.33      0.33     27895\n",
            "weighted avg       0.33      0.33      0.33     27895\n",
            "\n"
          ]
        }
      ],
      "source": [
        "# confusion matrix training\n",
        "from sklearn.metrics import classification_report, confusion_matrix\n",
        "# print(\"SVM Linear\")\n",
        "# print(confusion_matrix(y_train,y_pred_linear_train))\n",
        "# print(classification_report(y_train,y_pred_linear_train))\n",
        "\n",
        "print(\"SVM Kernel RBF\")\n",
        "print(confusion_matrix(y_train,y_pred_rbf_train))\n",
        "print(classification_report(y_train,y_pred_rbf_train))\n",
        "\n",
        "print(\"SVM Kernel Polynomial\")\n",
        "print(confusion_matrix(y_train,y_pred_poly_train))\n",
        "print(classification_report(y_train,y_pred_poly_train))\n",
        "\n",
        "print(\"SVM Kernel Sigmoid\")\n",
        "print(confusion_matrix(y_train,y_pred_sigmoid_train))\n",
        "print(classification_report(y_train,y_pred_sigmoid_train))"
      ]
    },
    {
      "cell_type": "code",
      "execution_count": null,
      "metadata": {
        "colab": {
          "base_uri": "https://localhost:8080/",
          "height": 416
        },
        "id": "MNfez_x4TzVk",
        "outputId": "24e727b0-ebdd-4406-b581-54c0c550b2ab"
      },
      "outputs": [
        {
          "name": "stderr",
          "output_type": "stream",
          "text": [
            "/usr/local/lib/python3.10/dist-packages/sklearn/base.py:439: UserWarning: X does not have valid feature names, but SVC was fitted with feature names\n",
            "  warnings.warn(\n"
          ]
        },
        {
          "ename": "ValueError",
          "evalue": "ignored",
          "output_type": "error",
          "traceback": [
            "\u001b[0;31m---------------------------------------------------------------------------\u001b[0m",
            "\u001b[0;31mValueError\u001b[0m                                Traceback (most recent call last)",
            "\u001b[0;32m<ipython-input-28-4555f9427dd8>\u001b[0m in \u001b[0;36m<cell line: 38>\u001b[0;34m()\u001b[0m\n\u001b[1;32m     36\u001b[0m \u001b[0;31m# Plot decision boundary for each SVM model\u001b[0m\u001b[0;34m\u001b[0m\u001b[0;34m\u001b[0m\u001b[0m\n\u001b[1;32m     37\u001b[0m \u001b[0;31m# plot_decision_boundary_2d(model_linear, x_train, y_train, \"SVM Linear Kernel\")\u001b[0m\u001b[0;34m\u001b[0m\u001b[0;34m\u001b[0m\u001b[0m\n\u001b[0;32m---> 38\u001b[0;31m \u001b[0mplot_decision_boundary_2d\u001b[0m\u001b[0;34m(\u001b[0m\u001b[0mmodel_rbf\u001b[0m\u001b[0;34m,\u001b[0m \u001b[0mx_train\u001b[0m\u001b[0;34m,\u001b[0m \u001b[0my_train\u001b[0m\u001b[0;34m,\u001b[0m \u001b[0;34m\"SVM RBF Kernel\"\u001b[0m\u001b[0;34m)\u001b[0m\u001b[0;34m\u001b[0m\u001b[0;34m\u001b[0m\u001b[0m\n\u001b[0m\u001b[1;32m     39\u001b[0m \u001b[0mplot_decision_boundary_2d\u001b[0m\u001b[0;34m(\u001b[0m\u001b[0mmodel_poly\u001b[0m\u001b[0;34m,\u001b[0m \u001b[0mx_train\u001b[0m\u001b[0;34m,\u001b[0m \u001b[0my_train\u001b[0m\u001b[0;34m,\u001b[0m \u001b[0;34m\"SVM Polynomial Kernel\"\u001b[0m\u001b[0;34m)\u001b[0m\u001b[0;34m\u001b[0m\u001b[0;34m\u001b[0m\u001b[0m\n\u001b[1;32m     40\u001b[0m \u001b[0mplot_decision_boundary_2d\u001b[0m\u001b[0;34m(\u001b[0m\u001b[0mmodel_sigmoid\u001b[0m\u001b[0;34m,\u001b[0m \u001b[0mx_train\u001b[0m\u001b[0;34m,\u001b[0m \u001b[0my_train\u001b[0m\u001b[0;34m,\u001b[0m \u001b[0;34m\"SVM Sigmoid Kernel\"\u001b[0m\u001b[0;34m)\u001b[0m\u001b[0;34m\u001b[0m\u001b[0;34m\u001b[0m\u001b[0m\n",
            "\u001b[0;32m<ipython-input-28-4555f9427dd8>\u001b[0m in \u001b[0;36mplot_decision_boundary_2d\u001b[0;34m(model, x_train, y_train, title)\u001b[0m\n\u001b[1;32m     17\u001b[0m \u001b[0;34m\u001b[0m\u001b[0m\n\u001b[1;32m     18\u001b[0m     \u001b[0;31m# Make predictions on the meshgrid for each class\u001b[0m\u001b[0;34m\u001b[0m\u001b[0;34m\u001b[0m\u001b[0m\n\u001b[0;32m---> 19\u001b[0;31m     \u001b[0mZ\u001b[0m \u001b[0;34m=\u001b[0m \u001b[0mmodel\u001b[0m\u001b[0;34m.\u001b[0m\u001b[0mpredict\u001b[0m\u001b[0;34m(\u001b[0m\u001b[0mnp\u001b[0m\u001b[0;34m.\u001b[0m\u001b[0mc_\u001b[0m\u001b[0;34m[\u001b[0m\u001b[0mxx\u001b[0m\u001b[0;34m.\u001b[0m\u001b[0mravel\u001b[0m\u001b[0;34m(\u001b[0m\u001b[0;34m)\u001b[0m\u001b[0;34m,\u001b[0m \u001b[0myy\u001b[0m\u001b[0;34m.\u001b[0m\u001b[0mravel\u001b[0m\u001b[0;34m(\u001b[0m\u001b[0;34m)\u001b[0m\u001b[0;34m]\u001b[0m\u001b[0;34m)\u001b[0m\u001b[0;34m\u001b[0m\u001b[0;34m\u001b[0m\u001b[0m\n\u001b[0m\u001b[1;32m     20\u001b[0m     \u001b[0mZ\u001b[0m \u001b[0;34m=\u001b[0m \u001b[0mZ\u001b[0m\u001b[0;34m.\u001b[0m\u001b[0mreshape\u001b[0m\u001b[0;34m(\u001b[0m\u001b[0mxx\u001b[0m\u001b[0;34m.\u001b[0m\u001b[0mshape\u001b[0m\u001b[0;34m)\u001b[0m\u001b[0;34m\u001b[0m\u001b[0;34m\u001b[0m\u001b[0m\n\u001b[1;32m     21\u001b[0m \u001b[0;34m\u001b[0m\u001b[0m\n",
            "\u001b[0;32m/usr/local/lib/python3.10/dist-packages/sklearn/svm/_base.py\u001b[0m in \u001b[0;36mpredict\u001b[0;34m(self, X)\u001b[0m\n\u001b[1;32m    818\u001b[0m             \u001b[0my\u001b[0m \u001b[0;34m=\u001b[0m \u001b[0mnp\u001b[0m\u001b[0;34m.\u001b[0m\u001b[0margmax\u001b[0m\u001b[0;34m(\u001b[0m\u001b[0mself\u001b[0m\u001b[0;34m.\u001b[0m\u001b[0mdecision_function\u001b[0m\u001b[0;34m(\u001b[0m\u001b[0mX\u001b[0m\u001b[0;34m)\u001b[0m\u001b[0;34m,\u001b[0m \u001b[0maxis\u001b[0m\u001b[0;34m=\u001b[0m\u001b[0;36m1\u001b[0m\u001b[0;34m)\u001b[0m\u001b[0;34m\u001b[0m\u001b[0;34m\u001b[0m\u001b[0m\n\u001b[1;32m    819\u001b[0m         \u001b[0;32melse\u001b[0m\u001b[0;34m:\u001b[0m\u001b[0;34m\u001b[0m\u001b[0;34m\u001b[0m\u001b[0m\n\u001b[0;32m--> 820\u001b[0;31m             \u001b[0my\u001b[0m \u001b[0;34m=\u001b[0m \u001b[0msuper\u001b[0m\u001b[0;34m(\u001b[0m\u001b[0;34m)\u001b[0m\u001b[0;34m.\u001b[0m\u001b[0mpredict\u001b[0m\u001b[0;34m(\u001b[0m\u001b[0mX\u001b[0m\u001b[0;34m)\u001b[0m\u001b[0;34m\u001b[0m\u001b[0;34m\u001b[0m\u001b[0m\n\u001b[0m\u001b[1;32m    821\u001b[0m         \u001b[0;32mreturn\u001b[0m \u001b[0mself\u001b[0m\u001b[0;34m.\u001b[0m\u001b[0mclasses_\u001b[0m\u001b[0;34m.\u001b[0m\u001b[0mtake\u001b[0m\u001b[0;34m(\u001b[0m\u001b[0mnp\u001b[0m\u001b[0;34m.\u001b[0m\u001b[0masarray\u001b[0m\u001b[0;34m(\u001b[0m\u001b[0my\u001b[0m\u001b[0;34m,\u001b[0m \u001b[0mdtype\u001b[0m\u001b[0;34m=\u001b[0m\u001b[0mnp\u001b[0m\u001b[0;34m.\u001b[0m\u001b[0mintp\u001b[0m\u001b[0;34m)\u001b[0m\u001b[0;34m)\u001b[0m\u001b[0;34m\u001b[0m\u001b[0;34m\u001b[0m\u001b[0m\n\u001b[1;32m    822\u001b[0m \u001b[0;34m\u001b[0m\u001b[0m\n",
            "\u001b[0;32m/usr/local/lib/python3.10/dist-packages/sklearn/svm/_base.py\u001b[0m in \u001b[0;36mpredict\u001b[0;34m(self, X)\u001b[0m\n\u001b[1;32m    431\u001b[0m             \u001b[0mThe\u001b[0m \u001b[0mpredicted\u001b[0m \u001b[0mvalues\u001b[0m\u001b[0;34m.\u001b[0m\u001b[0;34m\u001b[0m\u001b[0;34m\u001b[0m\u001b[0m\n\u001b[1;32m    432\u001b[0m         \"\"\"\n\u001b[0;32m--> 433\u001b[0;31m         \u001b[0mX\u001b[0m \u001b[0;34m=\u001b[0m \u001b[0mself\u001b[0m\u001b[0;34m.\u001b[0m\u001b[0m_validate_for_predict\u001b[0m\u001b[0;34m(\u001b[0m\u001b[0mX\u001b[0m\u001b[0;34m)\u001b[0m\u001b[0;34m\u001b[0m\u001b[0;34m\u001b[0m\u001b[0m\n\u001b[0m\u001b[1;32m    434\u001b[0m         \u001b[0mpredict\u001b[0m \u001b[0;34m=\u001b[0m \u001b[0mself\u001b[0m\u001b[0;34m.\u001b[0m\u001b[0m_sparse_predict\u001b[0m \u001b[0;32mif\u001b[0m \u001b[0mself\u001b[0m\u001b[0;34m.\u001b[0m\u001b[0m_sparse\u001b[0m \u001b[0;32melse\u001b[0m \u001b[0mself\u001b[0m\u001b[0;34m.\u001b[0m\u001b[0m_dense_predict\u001b[0m\u001b[0;34m\u001b[0m\u001b[0;34m\u001b[0m\u001b[0m\n\u001b[1;32m    435\u001b[0m         \u001b[0;32mreturn\u001b[0m \u001b[0mpredict\u001b[0m\u001b[0;34m(\u001b[0m\u001b[0mX\u001b[0m\u001b[0;34m)\u001b[0m\u001b[0;34m\u001b[0m\u001b[0;34m\u001b[0m\u001b[0m\n",
            "\u001b[0;32m/usr/local/lib/python3.10/dist-packages/sklearn/svm/_base.py\u001b[0m in \u001b[0;36m_validate_for_predict\u001b[0;34m(self, X)\u001b[0m\n\u001b[1;32m    611\u001b[0m \u001b[0;34m\u001b[0m\u001b[0m\n\u001b[1;32m    612\u001b[0m         \u001b[0;32mif\u001b[0m \u001b[0;32mnot\u001b[0m \u001b[0mcallable\u001b[0m\u001b[0;34m(\u001b[0m\u001b[0mself\u001b[0m\u001b[0;34m.\u001b[0m\u001b[0mkernel\u001b[0m\u001b[0;34m)\u001b[0m\u001b[0;34m:\u001b[0m\u001b[0;34m\u001b[0m\u001b[0;34m\u001b[0m\u001b[0m\n\u001b[0;32m--> 613\u001b[0;31m             X = self._validate_data(\n\u001b[0m\u001b[1;32m    614\u001b[0m                 \u001b[0mX\u001b[0m\u001b[0;34m,\u001b[0m\u001b[0;34m\u001b[0m\u001b[0;34m\u001b[0m\u001b[0m\n\u001b[1;32m    615\u001b[0m                 \u001b[0maccept_sparse\u001b[0m\u001b[0;34m=\u001b[0m\u001b[0;34m\"csr\"\u001b[0m\u001b[0;34m,\u001b[0m\u001b[0;34m\u001b[0m\u001b[0;34m\u001b[0m\u001b[0m\n",
            "\u001b[0;32m/usr/local/lib/python3.10/dist-packages/sklearn/base.py\u001b[0m in \u001b[0;36m_validate_data\u001b[0;34m(self, X, y, reset, validate_separately, **check_params)\u001b[0m\n\u001b[1;32m    586\u001b[0m \u001b[0;34m\u001b[0m\u001b[0m\n\u001b[1;32m    587\u001b[0m         \u001b[0;32mif\u001b[0m \u001b[0;32mnot\u001b[0m \u001b[0mno_val_X\u001b[0m \u001b[0;32mand\u001b[0m \u001b[0mcheck_params\u001b[0m\u001b[0;34m.\u001b[0m\u001b[0mget\u001b[0m\u001b[0;34m(\u001b[0m\u001b[0;34m\"ensure_2d\"\u001b[0m\u001b[0;34m,\u001b[0m \u001b[0;32mTrue\u001b[0m\u001b[0;34m)\u001b[0m\u001b[0;34m:\u001b[0m\u001b[0;34m\u001b[0m\u001b[0;34m\u001b[0m\u001b[0m\n\u001b[0;32m--> 588\u001b[0;31m             \u001b[0mself\u001b[0m\u001b[0;34m.\u001b[0m\u001b[0m_check_n_features\u001b[0m\u001b[0;34m(\u001b[0m\u001b[0mX\u001b[0m\u001b[0;34m,\u001b[0m \u001b[0mreset\u001b[0m\u001b[0;34m=\u001b[0m\u001b[0mreset\u001b[0m\u001b[0;34m)\u001b[0m\u001b[0;34m\u001b[0m\u001b[0;34m\u001b[0m\u001b[0m\n\u001b[0m\u001b[1;32m    589\u001b[0m \u001b[0;34m\u001b[0m\u001b[0m\n\u001b[1;32m    590\u001b[0m         \u001b[0;32mreturn\u001b[0m \u001b[0mout\u001b[0m\u001b[0;34m\u001b[0m\u001b[0;34m\u001b[0m\u001b[0m\n",
            "\u001b[0;32m/usr/local/lib/python3.10/dist-packages/sklearn/base.py\u001b[0m in \u001b[0;36m_check_n_features\u001b[0;34m(self, X, reset)\u001b[0m\n\u001b[1;32m    387\u001b[0m \u001b[0;34m\u001b[0m\u001b[0m\n\u001b[1;32m    388\u001b[0m         \u001b[0;32mif\u001b[0m \u001b[0mn_features\u001b[0m \u001b[0;34m!=\u001b[0m \u001b[0mself\u001b[0m\u001b[0;34m.\u001b[0m\u001b[0mn_features_in_\u001b[0m\u001b[0;34m:\u001b[0m\u001b[0;34m\u001b[0m\u001b[0;34m\u001b[0m\u001b[0m\n\u001b[0;32m--> 389\u001b[0;31m             raise ValueError(\n\u001b[0m\u001b[1;32m    390\u001b[0m                 \u001b[0;34mf\"X has {n_features} features, but {self.__class__.__name__} \"\u001b[0m\u001b[0;34m\u001b[0m\u001b[0;34m\u001b[0m\u001b[0m\n\u001b[1;32m    391\u001b[0m                 \u001b[0;34mf\"is expecting {self.n_features_in_} features as input.\"\u001b[0m\u001b[0;34m\u001b[0m\u001b[0;34m\u001b[0m\u001b[0m\n",
            "\u001b[0;31mValueError\u001b[0m: X has 2 features, but SVC is expecting 10 features as input."
          ]
        }
      ],
      "source": [
        "# import numpy as np\n",
        "# import matplotlib.pyplot as plt\n",
        "# from sklearn.decomposition import PCA\n",
        "\n",
        "# # Function to plot the decision boundary for two-class classification using PCA\n",
        "# def plot_decision_boundary_2d(model, x_train, y_train, title):\n",
        "#     h = .02  # step size in the mesh\n",
        "\n",
        "#     # Fit PCA to reduce the data to two dimensions (you can modify n_components if needed)\n",
        "#     pca = PCA(n_components=2)\n",
        "#     x_train_pca = pca.fit_transform(x_train)\n",
        "\n",
        "#     # Create a meshgrid to plot the decision boundary\n",
        "#     x_min, x_max = x_train_pca[:, 0].min() - 1, x_train_pca[:, 0].max() + 1\n",
        "#     y_min, y_max = x_train_pca[:, 1].min() - 1, x_train_pca[:, 1].max() + 1\n",
        "#     xx, yy = np.meshgrid(np.arange(x_min, x_max, h), np.arange(y_min, y_max, h))\n",
        "\n",
        "#     # Make predictions on the meshgrid for each class\n",
        "#     Z = model.predict(np.c_[xx.ravel(), yy.ravel()])\n",
        "#     Z = Z.reshape(xx.shape)\n",
        "\n",
        "#     # Plot the decision boundary for each class\n",
        "#     plt.figure()\n",
        "#     plt.contourf(xx, yy, Z, alpha=0.8, cmap='coolwarm')\n",
        "#     sns.scatterplot(x=x_train_pca[:, 0], y=x_train_pca[:, 1], hue=y_train, palette='coolwarm', s=20)\n",
        "#     plt.title(title)\n",
        "#     plt.xlabel('Principal Component 1')\n",
        "#     plt.ylabel('Principal Component 2')\n",
        "#     plt.legend(title='Class', loc='upper right')\n",
        "#     plt.show()\n",
        "\n",
        "# # Use the first two columns (features) for visualization\n",
        "# x_train_reduced = x_train.iloc[:, :2].values if isinstance(x_train, pd.DataFrame) else x_train[:, :2]\n",
        "# x_test_reduced = x_test.iloc[:, :2].values if isinstance(x_test, pd.DataFrame) else x_test[:, :2]\n",
        "\n",
        "# # Plot decision boundary for each SVM model\n",
        "# # plot_decision_boundary_2d(model_linear, x_train, y_train, \"SVM Linear Kernel\")\n",
        "# plot_decision_boundary_2d(model_rbf, x_train, y_train, \"SVM RBF Kernel\")\n",
        "# plot_decision_boundary_2d(model_poly, x_train, y_train, \"SVM Polynomial Kernel\")\n",
        "# plot_decision_boundary_2d(model_sigmoid, x_train, y_train, \"SVM Sigmoid Kernel\")"
      ]
    },
    {
      "cell_type": "markdown",
      "metadata": {
        "id": "-fw04T31d0Yh"
      },
      "source": [
        "**modeling algoritma versi 2**"
      ]
    },
    {
      "cell_type": "code",
      "execution_count": null,
      "metadata": {
        "id": "RYQCFi2vldyr"
      },
      "outputs": [],
      "source": [
        "# %%time\n",
        "# svmlinear = SVC(kernel='linear', probability=True)\n",
        "# svmlinear.fit(x_train, y_train)\n",
        "# hasil_linear = svmlinear.fit(x_train, y_train).predict_proba(x_test)"
      ]
    },
    {
      "cell_type": "code",
      "execution_count": null,
      "metadata": {
        "id": "J68KnMj-dzFA"
      },
      "outputs": [],
      "source": [
        "# %%time\n",
        "# svm_rbf = SVC(kernel='rbf', probability=True)\n",
        "# svm_rbf.fit(x_train, y_train)\n",
        "# hasil_rbf = svm_rbf.fit(x_train, y_train).predict_proba(x_test)\n"
      ]
    },
    {
      "cell_type": "code",
      "execution_count": null,
      "metadata": {
        "id": "4kZLLyw0d2Ii"
      },
      "outputs": [],
      "source": [
        "# %%time\n",
        "# svm_poly = SVC(kernel='poly', probability=True)\n",
        "# svm_poly.fit(x_train, y_train)\n",
        "# hasil_poly = svm_poly.fit(x_train, y_train).predict_proba(x_test)"
      ]
    },
    {
      "cell_type": "code",
      "execution_count": null,
      "metadata": {
        "id": "t3XLkoN2d3Yi"
      },
      "outputs": [],
      "source": [
        "# %%time\n",
        "# svm_sigmoid = SVC(kernel='sigmoid', probability=True)\n",
        "# svm_sigmoid.fit(x_train, y_train)\n",
        "# hasil_sigmoid = svm_sigmoid.fit(x_train, y_train).predict_proba(x_test)"
      ]
    },
    {
      "cell_type": "code",
      "execution_count": null,
      "metadata": {
        "id": "l2AuAG1ieC6v"
      },
      "outputs": [],
      "source": [
        "# from sklearn import svm"
      ]
    },
    {
      "cell_type": "code",
      "execution_count": null,
      "metadata": {
        "id": "jN3UwDOueJZ3"
      },
      "outputs": [],
      "source": [
        "# %%time\n",
        "# y_pred1 = svmlinear.predict(x_test)"
      ]
    },
    {
      "cell_type": "code",
      "execution_count": null,
      "metadata": {
        "id": "fgQQVyqSeLVi"
      },
      "outputs": [],
      "source": [
        "# %%time\n",
        "# y_pred2 = svm_rbf.predict(x_test)"
      ]
    },
    {
      "cell_type": "code",
      "execution_count": null,
      "metadata": {
        "id": "9oFIyS2zeNSC"
      },
      "outputs": [],
      "source": [
        "# %%time\n",
        "# y_pred3 = svm_poly.predict(x_test)"
      ]
    },
    {
      "cell_type": "code",
      "execution_count": null,
      "metadata": {
        "id": "NeXa-9VWeRXT"
      },
      "outputs": [],
      "source": [
        "# %%time\n",
        "# y_pred4 = svm_sigmoid.predict(x_test)"
      ]
    },
    {
      "cell_type": "code",
      "execution_count": null,
      "metadata": {
        "id": "w4WL0NCSeSqR"
      },
      "outputs": [],
      "source": [
        "# from sklearn.metrics import classification_report, confusion_matrix\n",
        "# print(\"SVM Linear\")\n",
        "# print(confusion_matrix(y_test,y_pred1))\n",
        "# print(classification_report(y_test,y_pred1))\n",
        "\n",
        "# print(\"SVM Kernel RBF\")\n",
        "# print(confusion_matrix(y_test,y_pred2))\n",
        "# print(classification_report(y_test,y_pred2))\n",
        "\n",
        "# print(\"SVM Kernel Polynomial\")\n",
        "# print(confusion_matrix(y_test,y_pred3))\n",
        "# print(classification_report(y_test,y_pred3))\n",
        "\n",
        "# print(\"SVM Kernel Sigmoid\")\n",
        "# print(confusion_matrix(y_test,y_pred4))\n",
        "# print(classification_report(y_test,y_pred4))"
      ]
    },
    {
      "cell_type": "markdown",
      "metadata": {
        "id": "KATA48MiRxvc"
      },
      "source": [
        "# **ROC**"
      ]
    },
    {
      "cell_type": "code",
      "execution_count": null,
      "metadata": {
        "id": "vD5dyVchmkjZ"
      },
      "outputs": [],
      "source": [
        "# Compute ROC curve and area the curve\n",
        "from sklearn.metrics import roc_curve, auc\n",
        "\n",
        "# fpr_linear, tpr_linear, thresholds_linear = roc_curve(y_test, y_pred_linear_test)\n",
        "# auc_linear = auc(fpr_linear, tpr_linear)\n",
        "\n",
        "fpr_rbf, tpr_rbf, thresholds_rbf = roc_curve(y_test, y_pred_rbf_test)\n",
        "auc_rbf = auc(fpr_rbf, tpr_rbf)\n",
        "\n",
        "fpr_poly, tpr_poly, thresholds_poly = roc_curve(y_test, y_pred_poly_test)\n",
        "auc_poly = auc(fpr_poly, tpr_poly)\n",
        "\n",
        "fpr_sigmoid, tpr_sigmoid, thresholds_sigmoid = roc_curve(y_test, y_pred_sigmoid_test)\n",
        "auc_sigmoid = auc(fpr_sigmoid, tpr_sigmoid)"
      ]
    },
    {
      "cell_type": "code",
      "execution_count": null,
      "metadata": {
        "id": "_7f7NBF8mnxU"
      },
      "outputs": [],
      "source": [
        "# from sklearn.metrics import roc_curve, auc\n",
        "\n",
        "# fpr_linear, tpr_linear, thresholds_linear = roc_curve(y_test, y_pred_linear_test[:, 1])\n",
        "# roc_auc_linear = auc(fpr_linear, tpr_linear)\n",
        "# print (\"Area under the ROC curve linear : %f\" % roc_auc_linear)\n",
        "\n",
        "# fpr_rbf, tpr_rbf, thresholds_rbf = roc_curve(y_test, y_pred_rbf_test[:, 1])\n",
        "# roc_auc_rbf = auc(fpr_rbf, tpr_rbf)\n",
        "# print (\"Area under the ROC curve rbf : %f\" % roc_auc_rbf)\n",
        "\n",
        "# fpr_poly, tpr_poly, thresholds_poly = roc_curve(y_test, y_pred_poly_test[:, 1])\n",
        "# roc_auc_poly = auc(fpr_poly, tpr_poly)\n",
        "# print (\"Area under the ROC curve polynomial : %f\" % roc_auc_poly)\n",
        "\n",
        "# fpr_sigmoid, tpr_sigmoid, thresholds_sigmoid = roc_curve(y_test, y_pred_sigmoid_test[:, 1])\n",
        "# roc_auc_sigmoid = auc(fpr_sigmoid, tpr_sigmoid)\n",
        "# print (\"Area under the ROC curve : %f\" % roc_auc_sigmoid)"
      ]
    },
    {
      "cell_type": "code",
      "execution_count": null,
      "metadata": {
        "colab": {
          "base_uri": "https://localhost:8080/",
          "height": 472
        },
        "id": "TE-nxy60um0s",
        "outputId": "99e131ae-22b3-421b-9e72-a34bac717160"
      },
      "outputs": [
        {
          "data": {
            "image/png": "[encoded data removed]",
            "text/plain": [
              "<Figure size 640x480 with 1 Axes>"
            ]
          },
          "metadata": {},
          "output_type": "display_data"
        }
      ],
      "source": [
        "# Plot kurva ROC\n",
        "plt.plot(fpr_linear, tpr_linear, label='Linear Kernel (AUC = %0.2f)' % auc_linear)\n",
        "plt.plot(fpr_rbf, tpr_rbf, label='RBF Kernel (AUC = %0.2f)' % auc_rbf)\n",
        "plt.plot(fpr_poly, tpr_poly, label='Polynomial Kernel (AUC = %0.2f)' % auc_poly)\n",
        "plt.plot(fpr_sigmoid, tpr_sigmoid, label='Sigmoid Kernel (AUC = %0.2f)' % auc_sigmoid)\n",
        "plt.plot([0, 1], [0, 1], 'k--')\n",
        "plt.xlim([0.0, 1.0])\n",
        "plt.ylim([0.0, 1.05])\n",
        "plt.xlabel('False Positive Rate')\n",
        "plt.ylabel('True Positive Rate')\n",
        "plt.title('ROC Curve - SVM')\n",
        "plt.legend(loc='lower right')\n",
        "plt.show()\n"
      ]
    },
    {
      "cell_type": "code",
      "execution_count": null,
      "metadata": {
        "id": "KC2PuHT5Npmc"
      },
      "outputs": [],
      "source": [
        "# # Plot ROC curve\n",
        "# import pylab as pl\n",
        "# pl.clf()\n",
        "# pl.plot(fpr_linear, tpr_linear, label='ROC curve (area = %0.2f)' % roc_auc_linear)\n",
        "# pl.plot([0, 1], [0, 1], 'k--')\n",
        "# pl.xlim([0.0, 1.0])\n",
        "# pl.ylim([0.0, 1.0])\n",
        "# pl.xlabel('False Positive Rate')\n",
        "# pl.ylabel('True Positive Rate')\n",
        "# pl.title('SVM Linear')\n",
        "# pl.legend(loc=\"lower right\")\n",
        "# pl.show()\n",
        "\n",
        "# pl.clf()\n",
        "# pl.plot(fpr_rbf, tpr_rbf, label='ROC curve (area = %0.2f)' % roc_auc_rbf)\n",
        "# pl.plot([0, 1], [0, 1], 'k--')\n",
        "# pl.xlim([0.0, 1.0])\n",
        "# pl.ylim([0.0, 1.0])\n",
        "# pl.xlabel('False Positive Rate')\n",
        "# pl.ylabel('True Positive Rate')\n",
        "# pl.title('SVM KERNEL RBF')\n",
        "# pl.legend(loc=\"lower right\")\n",
        "# pl.show()\n",
        "\n",
        "# pl.clf()\n",
        "# pl.plot(fpr_poly, tpr_poly, label='ROC curve (area = %0.2f)' % roc_auc_poly)\n",
        "# pl.plot([0, 1], [0, 1], 'k--')\n",
        "# pl.xlim([0.0, 1.0])\n",
        "# pl.ylim([0.0, 1.0])\n",
        "# pl.xlabel('False Positive Rate')\n",
        "# pl.ylabel('True Positive Rate')\n",
        "# pl.title('SVM KERNEL POLYNOMIAL')\n",
        "# pl.legend(loc=\"lower right\")\n",
        "# pl.show()\n",
        "\n",
        "# pl.clf()\n",
        "# pl.plot(fpr_sigmoid, tpr_sigmoid, label='ROC curve (area = %0.2f)' % roc_auc_sigmoid)\n",
        "# pl.plot([0, 1], [0, 1], 'k--')\n",
        "# pl.xlim([0.0, 1.0])\n",
        "# pl.ylim([0.0, 1.0])\n",
        "# pl.xlabel('False Positive Rate')\n",
        "# pl.ylabel('True Positive Rate')\n",
        "# pl.title('SVM KERNEL SIGMOID')\n",
        "# pl.legend(loc=\"lower right\")\n",
        "# pl.show()"
      ]
    },
    {
      "cell_type": "code",
      "execution_count": null,
      "metadata": {
        "id": "ocUAYavXNxk1"
      },
      "outputs": [],
      "source": [
        "# import pylab as pl\n",
        "# pl.clf()\n",
        "# pl.plot(fpr_linear, tpr_linear, label='ROC curve SVM Linear(area = %0.2f)' % roc_auc_linear)\n",
        "# pl.plot(fpr_rbf, tpr_rbf, label='ROC curve SVM-RBF(area = %0.2f)' % roc_auc_rbf)\n",
        "# pl.plot(fpr_poly, tpr_poly, label='ROC curve SVM Polynomial(area = %0.2f)' % roc_auc_poly)\n",
        "# pl.plot(fpr_sigmoid, tpr_sigmoid, label='ROC curve SVM Sigmoid(area = %0.2f)' % roc_auc_sigmoid)\n",
        "# pl.plot([0, 1], [0, 1], 'k--')\n",
        "# pl.xlim([0.0, 1.0])\n",
        "# pl.ylim([0.0, 1.0])\n",
        "# pl.xlabel('False Positive Rate')\n",
        "# pl.ylabel('True Positive Rate')\n",
        "# pl.title('SVM Linear')\n",
        "# pl.legend(loc=\"lower right\")\n",
        "# pl.show()\n",
        "\n"
      ]
    },
    {
      "cell_type": "markdown",
      "metadata": {
        "id": "XZw7_x9qQy1Z"
      },
      "source": [
        "**ROBUSTNESS**"
      ]
    },
    {
      "cell_type": "code",
      "execution_count": null,
      "metadata": {
        "id": "98Mb8Enlq5rW"
      },
      "outputs": [],
      "source": [
        "from sklearn.model_selection import cross_val_score"
      ]
    },
    {
      "cell_type": "code",
      "execution_count": null,
      "metadata": {
        "id": "Eiyz9Z6mq8uO"
      },
      "outputs": [],
      "source": [
        "# Membuat objek SVM dengan berbagai kernel\n",
        "kernels = ['linear', 'poly', 'rbf', 'sigmoid']\n",
        "results = {}"
      ]
    },
    {
      "cell_type": "code",
      "execution_count": null,
      "metadata": {
        "id": "RYduzbzRrEZn"
      },
      "outputs": [],
      "source": [
        "# Melakukan validasi silang dan menghitung skor untuk setiap kernel\n",
        "for kernel in kernels:\n",
        "    clf = svm.SVC(kernel=kernel)\n",
        "    scores = cross_val_score(clf, x_test, y_test, cv=5)  # Menggunakan validasi silang dengan 5 lipatan (5-fold cross-validation)\n",
        "    results[kernel] = scores.mean()  # Menyimpan nilai rata-rata skor untuk setiap kernel"
      ]
    },
    {
      "cell_type": "code",
      "execution_count": null,
      "metadata": {
        "colab": {
          "base_uri": "https://localhost:8080/"
        },
        "id": "OYPHjp_irHTV",
        "outputId": "c706319c-1d75-4343-827b-b0d2f04aada7"
      },
      "outputs": [
        {
          "name": "stdout",
          "output_type": "stream",
          "text": [
            "Kernel: linear, Skor Rata-rata: 0.9655863583303764\n",
            "Kernel: poly, Skor Rata-rata: 0.9939775689977013\n",
            "Kernel: rbf, Skor Rata-rata: 0.9949812560744202\n",
            "Kernel: sigmoid, Skor Rata-rata: 0.3647825036125124\n"
          ]
        }
      ],
      "source": [
        "# Menampilkan hasil perbandingan\n",
        "for kernel, score in results.items():\n",
        "    print(f\"Kernel: {kernel}, Skor Rata-rata: {score}\")"
      ]
    },
    {
      "cell_type": "code",
      "execution_count": null,
      "metadata": {
        "id": "DquF-Hmv2YeR"
      },
      "outputs": [],
      "source": [
        "import matplotlib.pyplot as plt"
      ]
    },
    {
      "cell_type": "code",
      "execution_count": null,
      "metadata": {
        "colab": {
          "base_uri": "https://localhost:8080/",
          "height": 472
        },
        "id": "arNoCjAy2huB",
        "outputId": "82f7e5ec-6ac9-44b9-f44a-64b89283bced"
      },
      "outputs": [
        {
          "data": {
            "image/png": "[encoded data removed]",
            "text/plain": [
              "<Figure size 640x480 with 1 Axes>"
            ]
          },
          "metadata": {},
          "output_type": "display_data"
        }
      ],
      "source": [
        "# Data hasil perbandingan robustness (misalnya akurasi rata-rata)\n",
        "results = {\n",
        "    'linear': 0.9655863583303764,\n",
        "    'poly': 0.9939775689977013,\n",
        "    'rbf': 0.99498125607442025,\n",
        "    'sigmoid': 0.3647825036125124\n",
        "}\n",
        "\n",
        "# Membuat grafik bar\n",
        "fig, ax = plt.subplots()\n",
        "\n",
        "# Menampilkan data dalam grafik bar\n",
        "ax.bar(results.keys(), results.values())\n",
        "\n",
        "# Memberikan judul dan label pada sumbu-sumbu\n",
        "ax.set_title('Perbandingan Robustness SVM dengan Berbagai Kernel')\n",
        "ax.set_xlabel('Kernel')\n",
        "ax.set_ylabel('Robustness (Akurasi Rata-rata)')\n",
        "\n",
        "# Menampilkan grafik\n",
        "plt.show()"
      ]
    },
    {
      "cell_type": "markdown",
      "metadata": {
        "id": "s-TSBtJrsnIn"
      },
      "source": [
        "**WAKTU TRAINING DAN TESTING**\n",
        "\n"
      ]
    },
    {
      "cell_type": "code",
      "execution_count": null,
      "metadata": {
        "id": "24Svm-3ctljH"
      },
      "outputs": [],
      "source": [
        "from sklearn import svm\n",
        "import time"
      ]
    },
    {
      "cell_type": "code",
      "execution_count": null,
      "metadata": {
        "id": "-hwrCq9xtwYl"
      },
      "outputs": [],
      "source": [
        "# Membuat objek SVM dengan berbagai kernel\n",
        "kernels = ['linear', 'poly', 'rbf', 'sigmoid']\n",
        "results = {}"
      ]
    },
    {
      "cell_type": "code",
      "execution_count": null,
      "metadata": {
        "id": "WgI5t7plt0jg"
      },
      "outputs": [],
      "source": [
        "Melakukan pengukuran waktu pelatihan dan prediksi untuk setiap kernel\n",
        "for kernel in kernels:\n",
        "    clf = svm.SVC(kernel=kernel)\n",
        "\n",
        "    Pengukuran waktu pelatihan\n",
        "    start_time = time.time()\n",
        "    clf.fit(x_train, y_train)\n",
        "    training_time = time.time() - start_time\n",
        "\n",
        "    Pengukuran waktu prediksi\n",
        "    start_time = time.time()\n",
        "    clf.predict(x_test)\n",
        "    prediction_time = time.time() - start_time\n",
        "\n",
        "    results[kernel] = {'Training Time': training_time, 'Prediction Time': prediction_time}"
      ]
    },
    {
      "cell_type": "code",
      "execution_count": null,
      "metadata": {
        "id": "XsAKGhhwt5Rj"
      },
      "outputs": [],
      "source": [
        "# Menampilkan hasil perbandingan\n",
        "for kernel, times in results.items():\n",
        "    print(f\"Kernel: {kernel}\")\n",
        "    print(f\"Training Time: {times['Training Time']} seconds\")\n",
        "    print(f\"Prediction Time: {times['Prediction Time']} seconds\")\n",
        "    print()"
      ]
    },
    {
      "cell_type": "code",
      "execution_count": null,
      "metadata": {
        "colab": {
          "base_uri": "https://localhost:8080/",
          "height": 472
        },
        "id": "M5u2X7E73lWr",
        "outputId": "9b4a39a1-ab82-4def-db40-c92b2192bff0"
      },
      "outputs": [
        {
          "data": {
            "image/png": "[encoded data removed]",
            "text/plain": [
              "<Figure size 640x480 with 1 Axes>"
            ]
          },
          "metadata": {},
          "output_type": "display_data"
        }
      ],
      "source": [
        "# Data hasil perbandingan scability (misalnya waktu pelatihan atau prediksi)\n",
        "results = {\n",
        "    'linear': {'Training Time': 636.5, 'Prediction Time': 0.5},\n",
        "    'poly': {'Training Time': 0.75, 'Prediction Time': 0.1},\n",
        "    'rbf': {'Training Time': 0.78, 'Prediction Time': 0.2},\n",
        "    'sigmoid': {'Training Time': 42.25, 'Prediction Time': 9.5}\n",
        "}\n",
        "\n",
        "# Membuat kumpulan data untuk waktu pelatihan dan prediksi\n",
        "training_times = [result['Training Time'] for result in results.values()]\n",
        "prediction_times = [result['Prediction Time'] for result in results.values()]\n",
        "\n",
        "# Membuat grafik bar dengan dua kumpulan data\n",
        "fig, ax = plt.subplots()\n",
        "bar_width = 0.35\n",
        "index = range(len(results))\n",
        "\n",
        "# Menampilkan waktu pelatihan\n",
        "bar1 = ax.bar(index, training_times, bar_width, label='Training Time')\n",
        "\n",
        "# Menampilkan waktu prediksi\n",
        "bar2 = ax.bar([i + bar_width for i in index], prediction_times, bar_width, label='Prediction Time')\n",
        "\n",
        "# Memberikan judul dan label pada sumbu-sumbu\n",
        "ax.set_title('Perbandingan Skalabilitas SVM dengan Berbagai Kernel')\n",
        "ax.set_xlabel('Kernel')\n",
        "ax.set_ylabel('Waktu (detik)')\n",
        "ax.set_xticks([i + bar_width / 2 for i in index])\n",
        "ax.set_xticklabels(results.keys())\n",
        "\n",
        "# Menampilkan legenda\n",
        "ax.legend()\n",
        "\n",
        "# Menampilkan grafik\n",
        "plt.show()"
      ]
    },
    {
      "cell_type": "code",
      "execution_count": null,
      "metadata": {
        "id": "rJBSZwcCVQHS"
      },
      "outputs": [],
      "source": []
    },
    {
      "cell_type": "markdown",
      "metadata": {
        "id": "3g3EpUp0Ohd4"
      },
      "source": [
        "# **MENYIMPAN MODEL**"
      ]
    },
    {
      "cell_type": "code",
      "execution_count": null,
      "metadata": {
        "id": "_vmG35SgT87F"
      },
      "outputs": [],
      "source": [
        "# import pickle\n",
        "# from sklearn import svm\n",
        "\n",
        "# # Simpan model dalam file PKL di Google Drive\n",
        "# filename = '/content/drive/MyDrive/Colab Notebooks/model_poly.pkl'  # Ganti dengan path dan nama file yang diinginkan\n",
        "# with open(filename, 'wb') as file:\n",
        "#     pickle.dump(model_poly, file)\n"
      ]
    },
    {
      "cell_type": "code",
      "execution_count": null,
      "metadata": {
        "id": "anhCtPISOhD5"
      },
      "outputs": [],
      "source": [
        "# import pickle\n",
        "# # Save the model to a file using pickle\n",
        "# with open('/content/gdrive/My Drive/Colab Notebooks/model_svm.pkl', 'wb') as f:\n",
        "#     pickle.dump(network, f)\n",
        "\n",
        "# # Load the model from the file using pickle\n",
        "# with open('/content/gdrive/My Drive/Colab Notebooks/model_bpnn_fix_v2.pkl', 'rb') as f:\n",
        "#     model = pickle.load(f)\n",
        "\n",
        "# # Print the loaded model\n",
        "# print(model)"
      ]
    },
    {
      "cell_type": "code",
      "execution_count": null,
      "metadata": {
        "id": "CS3NhpmCQHAG"
      },
      "outputs": [],
      "source": [
        "# import pickle\n",
        "\n",
        "# # Simpan model algoritma yang ingin disimpan\n",
        "# model = svmlinear\n",
        "\n",
        "# # Simpan model ke dalam file\n",
        "# filename = 'Model_SVM.sav' # Ganti dengan nama file yang sesuai\n",
        "# pickle.dump(model, open(filename, 'wb'))\n"
      ]
    },
    {
      "cell_type": "markdown",
      "metadata": {
        "id": "9VCFix9TWJNC"
      },
      "source": [
        "# **CREATING FLASK**"
      ]
    },
    {
      "cell_type": "code",
      "execution_count": null,
      "metadata": {
        "id": "Ir-hKRPlX83V"
      },
      "outputs": [],
      "source": []
    },
    {
      "cell_type": "markdown",
      "metadata": {
        "id": "DhurAwLLXzjH"
      },
      "source": [
        "**ADDITION**"
      ]
    },
    {
      "cell_type": "code",
      "execution_count": null,
      "metadata": {
        "id": "2ABxZHT0utfx"
      },
      "outputs": [],
      "source": [
        "# from sklearn.metrics import accuracy_score"
      ]
    },
    {
      "cell_type": "code",
      "execution_count": null,
      "metadata": {
        "id": "wnh8ErBru4qX"
      },
      "outputs": [],
      "source": [
        "# # Membuat objek SVM dengan berbagai kernel\n",
        "# kernels = ['linear', 'poly', 'rbf', 'sigmoid']\n",
        "# results = {}"
      ]
    },
    {
      "cell_type": "code",
      "execution_count": null,
      "metadata": {
        "id": "LJi57fXcu--f"
      },
      "outputs": [],
      "source": [
        "# # Melakukan validasi silang untuk setiap kernel\n",
        "# for kernel in kernels:\n",
        "#     clf = svm.SVC(kernel=kernel)\n",
        "#     scores_train = []\n",
        "#     scores_test = []"
      ]
    },
    {
      "cell_type": "code",
      "execution_count": null,
      "metadata": {
        "id": "eg9OU9PdwwEo"
      },
      "outputs": [],
      "source": [
        "# x = df.drop(['Class'], axis=1)\n",
        "# y = df.Class"
      ]
    },
    {
      "cell_type": "code",
      "execution_count": null,
      "metadata": {
        "id": "RLw0Hd4z006U"
      },
      "outputs": [],
      "source": [
        "# for kernel in kernels:\n",
        "#     clf = svm.SVC(kernel=kernel)\n",
        "#     scores_train = []\n",
        "#     scores_test = []\n",
        "\n",
        "#     # Melakukan validasi silang dengan 10 lipatan (10-fold cross-validation)\n",
        "#     for _ in range(10):\n",
        "#         # Membagi data menjadi data latih dan data uji\n",
        "#         x_train, x_test, y_train, y_test = train_test_split(x, y, test_size=0.2)\n",
        "\n",
        "#         # Melatih model\n",
        "#         clf.fit(x_train, y_train)\n",
        "\n",
        "#         # Menghitung akurasi pada data latih dan data uji\n",
        "#         train_score = accuracy_score(y_train, clf.predict(x_train))\n",
        "#         test_score = accuracy_score(y_test, clf.predict(x_test))\n",
        "\n",
        "#         scores_train.append(train_score)\n",
        "#         scores_test.append(test_score)\n",
        "\n",
        "#     results[kernel] = {'Train Accuracy': sum(scores_train) / len(scores_train),\n",
        "#                        'Test Accuracy': sum(scores_test) / len(scores_test)}\n",
        "\n",
        "# # Menampilkan hasil perbandingan\n",
        "# for kernel, scores in results.items():\n",
        "#     print(f\"Kernel: {kernel}\")\n",
        "#     print(f\"Train Accuracy: {scores['Train Accuracy']}\")\n",
        "#     print(f\"Test Accuracy: {scores['Test Accuracy']}\")\n",
        "#     print()"
      ]
    }
  ],
  "metadata": {
    "colab": {
      "provenance": []
    },
    "kernelspec": {
      "display_name": "Python 3",
      "name": "python3"
    },
    "language_info": {
      "name": "python"
    }
  },
  "nbformat": 4,
  "nbformat_minor": 0
}